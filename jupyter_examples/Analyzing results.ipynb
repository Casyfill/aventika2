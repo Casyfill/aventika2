{
 "cells": [
  {
   "cell_type": "code",
   "execution_count": 1,
   "metadata": {
    "collapsed": false
   },
   "outputs": [],
   "source": [
    "import pandas as pd\n",
    "import geopandas as gp\n",
    "import qgrid\n",
    "from palettable.tableau import Tableau_20"
   ]
  },
  {
   "cell_type": "code",
   "execution_count": 2,
   "metadata": {
    "collapsed": false
   },
   "outputs": [],
   "source": [
    "%matplotlib inline\n",
    "from matplotlib import pylab as plt"
   ]
  },
  {
   "cell_type": "markdown",
   "metadata": {},
   "source": [
    "# READING DATA"
   ]
  },
  {
   "cell_type": "code",
   "execution_count": 114,
   "metadata": {
    "collapsed": false
   },
   "outputs": [],
   "source": [
    "offices = pd.read_csv('../data/results/reg005_office_results.csv')\n",
    "atms    = pd.read_csv('../data/results/reg005_atm_results.csv') \n",
    "\n",
    "results = pd.concat([atms, offices])"
   ]
  },
  {
   "cell_type": "code",
   "execution_count": 115,
   "metadata": {
    "collapsed": false
   },
   "outputs": [
    {
     "data": {
      "text/html": [
       "<div>\n",
       "<table border=\"1\" class=\"dataframe\">\n",
       "  <thead>\n",
       "    <tr style=\"text-align: right;\">\n",
       "      <th></th>\n",
       "      <th>f_pois</th>\n",
       "      <th>s_pois</th>\n",
       "      <th>reg_score</th>\n",
       "      <th>priority</th>\n",
       "      <th>office_id</th>\n",
       "      <th>score</th>\n",
       "    </tr>\n",
       "  </thead>\n",
       "  <tbody>\n",
       "    <tr>\n",
       "      <th>0</th>\n",
       "      <td>508|837|943|31|4693|4717|4501|4904|4869|4900|4...</td>\n",
       "      <td>508|837|943|4693|4717|4501|4904|4869|4900|4830...</td>\n",
       "      <td>316.1</td>\n",
       "      <td>1</td>\n",
       "      <td>2060</td>\n",
       "      <td>3319.1</td>\n",
       "    </tr>\n",
       "    <tr>\n",
       "      <th>1</th>\n",
       "      <td>82|78|84|787|6722|74|743|857|926|86|974|6700|6...</td>\n",
       "      <td>78|787|6722|743|857|926|6699|6723|7342|6698|67...</td>\n",
       "      <td>135.1</td>\n",
       "      <td>2</td>\n",
       "      <td>2267</td>\n",
       "      <td>3198.1</td>\n",
       "    </tr>\n",
       "  </tbody>\n",
       "</table>\n",
       "</div>"
      ],
      "text/plain": [
       "                                              f_pois  \\\n",
       "0  508|837|943|31|4693|4717|4501|4904|4869|4900|4...   \n",
       "1  82|78|84|787|6722|74|743|857|926|86|974|6700|6...   \n",
       "\n",
       "                                              s_pois  reg_score  priority  \\\n",
       "0  508|837|943|4693|4717|4501|4904|4869|4900|4830...      316.1         1   \n",
       "1  78|787|6722|743|857|926|6699|6723|7342|6698|67...      135.1         2   \n",
       "\n",
       "   office_id   score  \n",
       "0       2060  3319.1  \n",
       "1       2267  3198.1  "
      ]
     },
     "execution_count": 115,
     "metadata": {},
     "output_type": "execute_result"
    }
   ],
   "source": [
    "results.head(2)"
   ]
  },
  {
   "cell_type": "code",
   "execution_count": 116,
   "metadata": {
    "collapsed": true
   },
   "outputs": [],
   "source": [
    "results.loc[pd.notnull(results['f_pois']), 'f_pois']  =  results.loc[pd.notnull(results['f_pois']), 'f_pois'].apply(lambda x: [int(y) for y in x.split('|')])\n",
    "results.loc[pd.notnull(results['s_pois']), 's_pois']  =  results.loc[pd.notnull(results['s_pois']), 's_pois'].apply(lambda x: [int(y) for y in x.split('|')])"
   ]
  },
  {
   "cell_type": "code",
   "execution_count": 117,
   "metadata": {
    "collapsed": false
   },
   "outputs": [],
   "source": [
    "results.loc[ pd.isnull(results[['f_pois', 's_pois']]).any(1), ['f_pois', 's_pois']] = None\n"
   ]
  },
  {
   "cell_type": "code",
   "execution_count": 118,
   "metadata": {
    "collapsed": false
   },
   "outputs": [],
   "source": [
    "def tol_joiner(x, y):\n",
    "\n",
    "    if x is None or isinstance(x, str):\n",
    "        x = []\n",
    "    if y is None or isinstance(y, str):\n",
    "        y = []\n",
    "    \n",
    "    return x + y"
   ]
  },
  {
   "cell_type": "code",
   "execution_count": 119,
   "metadata": {
    "collapsed": false
   },
   "outputs": [],
   "source": [
    "results['pois'] = results.apply(lambda x: tol_joiner(x['f_pois'], x['s_pois']),1)"
   ]
  },
  {
   "cell_type": "code",
   "execution_count": 120,
   "metadata": {
    "collapsed": false
   },
   "outputs": [],
   "source": [
    "results.drop(['s_pois', 'f_pois'], axis=1, inplace=1)"
   ]
  },
  {
   "cell_type": "code",
   "execution_count": 121,
   "metadata": {
    "collapsed": false
   },
   "outputs": [],
   "source": [
    "banks = gp.read_file('../data/real/banks.geojson')[['name', 'address', 'shop_intersect','type', 'office_id']]"
   ]
  },
  {
   "cell_type": "code",
   "execution_count": 122,
   "metadata": {
    "collapsed": false
   },
   "outputs": [],
   "source": [
    "banks = banks.merge(results, on='office_id', how='left')\n",
    "banks['score'].fillna(0, inplace=1)"
   ]
  },
  {
   "cell_type": "code",
   "execution_count": 123,
   "metadata": {
    "collapsed": false
   },
   "outputs": [
    {
     "data": {
      "text/html": [
       "<div>\n",
       "<table border=\"1\" class=\"dataframe\">\n",
       "  <thead>\n",
       "    <tr style=\"text-align: right;\">\n",
       "      <th></th>\n",
       "      <th>name</th>\n",
       "      <th>address</th>\n",
       "      <th>shop_intersect</th>\n",
       "      <th>type</th>\n",
       "      <th>office_id</th>\n",
       "      <th>reg_score</th>\n",
       "      <th>priority</th>\n",
       "      <th>score</th>\n",
       "      <th>pois</th>\n",
       "    </tr>\n",
       "  </thead>\n",
       "  <tbody>\n",
       "    <tr>\n",
       "      <th>0</th>\n",
       "      <td>ВСП 7954/1110</td>\n",
       "      <td>г. Зеленоград, 315</td>\n",
       "      <td></td>\n",
       "      <td>Отделение</td>\n",
       "      <td>2378</td>\n",
       "      <td>100.55</td>\n",
       "      <td>343.0</td>\n",
       "      <td>505.55</td>\n",
       "      <td>[10191, 10190, 10192, 10193, 670, 10189, 10188...</td>\n",
       "    </tr>\n",
       "    <tr>\n",
       "      <th>1</th>\n",
       "      <td>ВСП 7954/1559</td>\n",
       "      <td>г. Зеленоград, 1561Б</td>\n",
       "      <td></td>\n",
       "      <td>Отделение</td>\n",
       "      <td>2387</td>\n",
       "      <td>64.35</td>\n",
       "      <td>446.0</td>\n",
       "      <td>364.35</td>\n",
       "      <td>[10264, 10265, 10266, 10267, 10268, 10269, 102...</td>\n",
       "    </tr>\n",
       "    <tr>\n",
       "      <th>2</th>\n",
       "      <td>Доп.офис №9038/01150</td>\n",
       "      <td>г.Москва, ул.Смольная, д.7</td>\n",
       "      <td></td>\n",
       "      <td>Отделение</td>\n",
       "      <td>230</td>\n",
       "      <td>181.25</td>\n",
       "      <td>179.0</td>\n",
       "      <td>876.25</td>\n",
       "      <td>[554, 555, 1247, 1264, 1266, 1244, 1265, 1245,...</td>\n",
       "    </tr>\n",
       "  </tbody>\n",
       "</table>\n",
       "</div>"
      ],
      "text/plain": [
       "                   name                     address shop_intersect       type  \\\n",
       "0         ВСП 7954/1110          г. Зеленоград, 315                 Отделение   \n",
       "1         ВСП 7954/1559        г. Зеленоград, 1561Б                 Отделение   \n",
       "2  Доп.офис №9038/01150  г.Москва, ул.Смольная, д.7                 Отделение   \n",
       "\n",
       "   office_id  reg_score  priority   score  \\\n",
       "0       2378     100.55     343.0  505.55   \n",
       "1       2387      64.35     446.0  364.35   \n",
       "2        230     181.25     179.0  876.25   \n",
       "\n",
       "                                                pois  \n",
       "0  [10191, 10190, 10192, 10193, 670, 10189, 10188...  \n",
       "1  [10264, 10265, 10266, 10267, 10268, 10269, 102...  \n",
       "2  [554, 555, 1247, 1264, 1266, 1244, 1265, 1245,...  "
      ]
     },
     "execution_count": 123,
     "metadata": {},
     "output_type": "execute_result"
    }
   ],
   "source": [
    "banks.head(3)"
   ]
  },
  {
   "cell_type": "code",
   "execution_count": 124,
   "metadata": {
    "collapsed": false
   },
   "outputs": [
    {
     "data": {
      "text/plain": [
       "2365"
      ]
     },
     "execution_count": 124,
     "metadata": {},
     "output_type": "execute_result"
    }
   ],
   "source": [
    "len(results[pd.notnull(results['priority'])])"
   ]
  },
  {
   "cell_type": "code",
   "execution_count": 125,
   "metadata": {
    "collapsed": false
   },
   "outputs": [
    {
     "data": {
      "text/html": [
       "<div>\n",
       "<table border=\"1\" class=\"dataframe\">\n",
       "  <thead>\n",
       "    <tr style=\"text-align: right;\">\n",
       "      <th></th>\n",
       "      <th>name</th>\n",
       "      <th>address</th>\n",
       "      <th>shop_intersect</th>\n",
       "      <th>type</th>\n",
       "      <th>office_id</th>\n",
       "      <th>reg_score</th>\n",
       "      <th>priority</th>\n",
       "      <th>score</th>\n",
       "      <th>pois</th>\n",
       "    </tr>\n",
       "  </thead>\n",
       "  <tbody>\n",
       "    <tr>\n",
       "      <th>98</th>\n",
       "      <td>Банкомат 184296</td>\n",
       "      <td>г. ЛАПШИНКА,8</td>\n",
       "      <td></td>\n",
       "      <td>Банкомат</td>\n",
       "      <td>894</td>\n",
       "      <td>NaN</td>\n",
       "      <td>NaN</td>\n",
       "      <td>0.0</td>\n",
       "      <td>NaN</td>\n",
       "    </tr>\n",
       "    <tr>\n",
       "      <th>636</th>\n",
       "      <td>Доп.офис №9038/01</td>\n",
       "      <td>г.Москва, с. Красная Пахра 10</td>\n",
       "      <td></td>\n",
       "      <td>Отделение</td>\n",
       "      <td>653</td>\n",
       "      <td>NaN</td>\n",
       "      <td>NaN</td>\n",
       "      <td>0.0</td>\n",
       "      <td>NaN</td>\n",
       "    </tr>\n",
       "    <tr>\n",
       "      <th>821</th>\n",
       "      <td>Банкомат 693903</td>\n",
       "      <td>г. Ж/К ДУБРОВКАУлица Сосновая 6</td>\n",
       "      <td></td>\n",
       "      <td>Банкомат</td>\n",
       "      <td>861</td>\n",
       "      <td>NaN</td>\n",
       "      <td>NaN</td>\n",
       "      <td>0.0</td>\n",
       "      <td>NaN</td>\n",
       "    </tr>\n",
       "    <tr>\n",
       "      <th>842</th>\n",
       "      <td>Банкомат 650014</td>\n",
       "      <td>г. Зеленоград, Площадь Крюковская 1</td>\n",
       "      <td></td>\n",
       "      <td>Банкомат</td>\n",
       "      <td>884</td>\n",
       "      <td>NaN</td>\n",
       "      <td>NaN</td>\n",
       "      <td>0.0</td>\n",
       "      <td>NaN</td>\n",
       "    </tr>\n",
       "    <tr>\n",
       "      <th>849</th>\n",
       "      <td>Банкомат 650261</td>\n",
       "      <td>г. КАРТМАЗОВО,7</td>\n",
       "      <td></td>\n",
       "      <td>Банкомат</td>\n",
       "      <td>891</td>\n",
       "      <td>NaN</td>\n",
       "      <td>NaN</td>\n",
       "      <td>0.0</td>\n",
       "      <td>NaN</td>\n",
       "    </tr>\n",
       "    <tr>\n",
       "      <th>850</th>\n",
       "      <td>Банкомат 248717</td>\n",
       "      <td>г. КАРТМАЗОВО,7</td>\n",
       "      <td></td>\n",
       "      <td>Банкомат</td>\n",
       "      <td>892</td>\n",
       "      <td>NaN</td>\n",
       "      <td>NaN</td>\n",
       "      <td>0.0</td>\n",
       "      <td>NaN</td>\n",
       "    </tr>\n",
       "    <tr>\n",
       "      <th>1249</th>\n",
       "      <td>Банкомат 10095083</td>\n",
       "      <td>г. Москва,Километр Новорижское Шоссе 22-й</td>\n",
       "      <td></td>\n",
       "      <td>Банкомат</td>\n",
       "      <td>1302</td>\n",
       "      <td>NaN</td>\n",
       "      <td>NaN</td>\n",
       "      <td>0.0</td>\n",
       "      <td>NaN</td>\n",
       "    </tr>\n",
       "    <tr>\n",
       "      <th>1250</th>\n",
       "      <td>Банкомат 10095082</td>\n",
       "      <td>г. Москва,Километр Новорижское Шоссе 22-й</td>\n",
       "      <td></td>\n",
       "      <td>Банкомат</td>\n",
       "      <td>1303</td>\n",
       "      <td>NaN</td>\n",
       "      <td>NaN</td>\n",
       "      <td>0.0</td>\n",
       "      <td>NaN</td>\n",
       "    </tr>\n",
       "    <tr>\n",
       "      <th>1251</th>\n",
       "      <td>Банкомат 10095084</td>\n",
       "      <td>г. Москва,Километр Новорижское Шоссе 22-й</td>\n",
       "      <td></td>\n",
       "      <td>Банкомат</td>\n",
       "      <td>1304</td>\n",
       "      <td>NaN</td>\n",
       "      <td>NaN</td>\n",
       "      <td>0.0</td>\n",
       "      <td>NaN</td>\n",
       "    </tr>\n",
       "    <tr>\n",
       "      <th>1313</th>\n",
       "      <td>Банкомат 252219</td>\n",
       "      <td>г. Москва,Шоссе Иваньковское 3</td>\n",
       "      <td></td>\n",
       "      <td>Банкомат</td>\n",
       "      <td>1368</td>\n",
       "      <td>NaN</td>\n",
       "      <td>NaN</td>\n",
       "      <td>0.0</td>\n",
       "      <td>NaN</td>\n",
       "    </tr>\n",
       "    <tr>\n",
       "      <th>1703</th>\n",
       "      <td>Банкомат 992092</td>\n",
       "      <td>г. Москва,Километр Киевское шоссе 22-й (п Моск...</td>\n",
       "      <td></td>\n",
       "      <td>Банкомат</td>\n",
       "      <td>1761</td>\n",
       "      <td>NaN</td>\n",
       "      <td>NaN</td>\n",
       "      <td>0.0</td>\n",
       "      <td>NaN</td>\n",
       "    </tr>\n",
       "    <tr>\n",
       "      <th>2129</th>\n",
       "      <td>Банкомат 650245</td>\n",
       "      <td>г. Москва,Километр Калужское шоссе 22-й (п Сос...</td>\n",
       "      <td>true</td>\n",
       "      <td>Банкомат</td>\n",
       "      <td>2194</td>\n",
       "      <td>NaN</td>\n",
       "      <td>NaN</td>\n",
       "      <td>0.0</td>\n",
       "      <td>NaN</td>\n",
       "    </tr>\n",
       "    <tr>\n",
       "      <th>2130</th>\n",
       "      <td>Банкомат 439267</td>\n",
       "      <td>г. Москва,Километр Калужское шоссе 22-й (п Сос...</td>\n",
       "      <td>true</td>\n",
       "      <td>Банкомат</td>\n",
       "      <td>2195</td>\n",
       "      <td>NaN</td>\n",
       "      <td>NaN</td>\n",
       "      <td>0.0</td>\n",
       "      <td>NaN</td>\n",
       "    </tr>\n",
       "    <tr>\n",
       "      <th>2131</th>\n",
       "      <td>Банкомат 830390</td>\n",
       "      <td>г. Москва,Километр Калужское шоссе 22-й (п Сос...</td>\n",
       "      <td>true</td>\n",
       "      <td>Банкомат</td>\n",
       "      <td>2196</td>\n",
       "      <td>NaN</td>\n",
       "      <td>NaN</td>\n",
       "      <td>0.0</td>\n",
       "      <td>NaN</td>\n",
       "    </tr>\n",
       "    <tr>\n",
       "      <th>2269</th>\n",
       "      <td>Банкомат 780250</td>\n",
       "      <td>г. Москва,Шоссе Шереметьевское 9</td>\n",
       "      <td></td>\n",
       "      <td>Банкомат</td>\n",
       "      <td>2336</td>\n",
       "      <td>NaN</td>\n",
       "      <td>NaN</td>\n",
       "      <td>0.0</td>\n",
       "      <td>NaN</td>\n",
       "    </tr>\n",
       "    <tr>\n",
       "      <th>2285</th>\n",
       "      <td>Банкомат 802148</td>\n",
       "      <td>г. Московский,Улица Солнечная 3</td>\n",
       "      <td></td>\n",
       "      <td>Банкомат</td>\n",
       "      <td>2352</td>\n",
       "      <td>NaN</td>\n",
       "      <td>NaN</td>\n",
       "      <td>0.0</td>\n",
       "      <td>NaN</td>\n",
       "    </tr>\n",
       "    <tr>\n",
       "      <th>2286</th>\n",
       "      <td>Банкомат 802149</td>\n",
       "      <td>г. Московский,Улица Солнечная 3</td>\n",
       "      <td>true</td>\n",
       "      <td>Банкомат</td>\n",
       "      <td>2353</td>\n",
       "      <td>NaN</td>\n",
       "      <td>NaN</td>\n",
       "      <td>0.0</td>\n",
       "      <td>NaN</td>\n",
       "    </tr>\n",
       "    <tr>\n",
       "      <th>2287</th>\n",
       "      <td>Банкомат 688697</td>\n",
       "      <td>г. РАССКАЗОВКА200</td>\n",
       "      <td></td>\n",
       "      <td>Банкомат</td>\n",
       "      <td>2354</td>\n",
       "      <td>NaN</td>\n",
       "      <td>NaN</td>\n",
       "      <td>0.0</td>\n",
       "      <td>NaN</td>\n",
       "    </tr>\n",
       "    <tr>\n",
       "      <th>2291</th>\n",
       "      <td>Банкомат 688695</td>\n",
       "      <td>г. Троицк,Улица Радужная 2</td>\n",
       "      <td></td>\n",
       "      <td>Банкомат</td>\n",
       "      <td>2358</td>\n",
       "      <td>NaN</td>\n",
       "      <td>NaN</td>\n",
       "      <td>0.0</td>\n",
       "      <td>NaN</td>\n",
       "    </tr>\n",
       "    <tr>\n",
       "      <th>2299</th>\n",
       "      <td>Банкомат 287850</td>\n",
       "      <td>Поселок Воскресенское  владение   Ок Архангель...</td>\n",
       "      <td></td>\n",
       "      <td>Банкомат</td>\n",
       "      <td>2368</td>\n",
       "      <td>NaN</td>\n",
       "      <td>NaN</td>\n",
       "      <td>0.0</td>\n",
       "      <td>NaN</td>\n",
       "    </tr>\n",
       "    <tr>\n",
       "      <th>2301</th>\n",
       "      <td>Банкомат 688717</td>\n",
       "      <td>Поселок Крекшино2</td>\n",
       "      <td></td>\n",
       "      <td>Банкомат</td>\n",
       "      <td>2370</td>\n",
       "      <td>NaN</td>\n",
       "      <td>NaN</td>\n",
       "      <td>0.0</td>\n",
       "      <td>NaN</td>\n",
       "    </tr>\n",
       "    <tr>\n",
       "      <th>2302</th>\n",
       "      <td>Банкомат 850613</td>\n",
       "      <td>Поселок ЛМСМикрорайон Солнечный г.ок 1</td>\n",
       "      <td></td>\n",
       "      <td>Банкомат</td>\n",
       "      <td>2371</td>\n",
       "      <td>NaN</td>\n",
       "      <td>NaN</td>\n",
       "      <td>0.0</td>\n",
       "      <td>NaN</td>\n",
       "    </tr>\n",
       "    <tr>\n",
       "      <th>2303</th>\n",
       "      <td>Банкомат 890223</td>\n",
       "      <td>Поселок РоговоУлица Юбилейная 1А</td>\n",
       "      <td></td>\n",
       "      <td>Банкомат</td>\n",
       "      <td>2373</td>\n",
       "      <td>NaN</td>\n",
       "      <td>NaN</td>\n",
       "      <td>0.0</td>\n",
       "      <td>NaN</td>\n",
       "    </tr>\n",
       "    <tr>\n",
       "      <th>2306</th>\n",
       "      <td>Банкомат 688687</td>\n",
       "      <td>Рабочий поселок Киевский  18б</td>\n",
       "      <td></td>\n",
       "      <td>Банкомат</td>\n",
       "      <td>2376</td>\n",
       "      <td>NaN</td>\n",
       "      <td>NaN</td>\n",
       "      <td>0.0</td>\n",
       "      <td>NaN</td>\n",
       "    </tr>\n",
       "    <tr>\n",
       "      <th>2324</th>\n",
       "      <td>Банкомат 2014364</td>\n",
       "      <td>Поселок Марушкинское   Индустриальный Парк (вн...</td>\n",
       "      <td>true</td>\n",
       "      <td>Банкомат</td>\n",
       "      <td>2372</td>\n",
       "      <td>NaN</td>\n",
       "      <td>NaN</td>\n",
       "      <td>0.0</td>\n",
       "      <td>NaN</td>\n",
       "    </tr>\n",
       "    <tr>\n",
       "      <th>2336</th>\n",
       "      <td>Доп.офис №9038/01</td>\n",
       "      <td>г.Москва, пос. Кленово, 10</td>\n",
       "      <td></td>\n",
       "      <td>Отделение</td>\n",
       "      <td>650</td>\n",
       "      <td>NaN</td>\n",
       "      <td>NaN</td>\n",
       "      <td>0.0</td>\n",
       "      <td>NaN</td>\n",
       "    </tr>\n",
       "  </tbody>\n",
       "</table>\n",
       "</div>"
      ],
      "text/plain": [
       "                   name                                            address  \\\n",
       "98      Банкомат 184296                                      г. ЛАПШИНКА,8   \n",
       "636   Доп.офис №9038/01                      г.Москва, с. Красная Пахра 10   \n",
       "821     Банкомат 693903                    г. Ж/К ДУБРОВКАУлица Сосновая 6   \n",
       "842     Банкомат 650014                г. Зеленоград, Площадь Крюковская 1   \n",
       "849     Банкомат 650261                                    г. КАРТМАЗОВО,7   \n",
       "850     Банкомат 248717                                    г. КАРТМАЗОВО,7   \n",
       "1249  Банкомат 10095083          г. Москва,Километр Новорижское Шоссе 22-й   \n",
       "1250  Банкомат 10095082          г. Москва,Километр Новорижское Шоссе 22-й   \n",
       "1251  Банкомат 10095084          г. Москва,Километр Новорижское Шоссе 22-й   \n",
       "1313    Банкомат 252219                     г. Москва,Шоссе Иваньковское 3   \n",
       "1703    Банкомат 992092  г. Москва,Километр Киевское шоссе 22-й (п Моск...   \n",
       "2129    Банкомат 650245  г. Москва,Километр Калужское шоссе 22-й (п Сос...   \n",
       "2130    Банкомат 439267  г. Москва,Километр Калужское шоссе 22-й (п Сос...   \n",
       "2131    Банкомат 830390  г. Москва,Километр Калужское шоссе 22-й (п Сос...   \n",
       "2269    Банкомат 780250                   г. Москва,Шоссе Шереметьевское 9   \n",
       "2285    Банкомат 802148                    г. Московский,Улица Солнечная 3   \n",
       "2286    Банкомат 802149                    г. Московский,Улица Солнечная 3   \n",
       "2287    Банкомат 688697                                  г. РАССКАЗОВКА200   \n",
       "2291    Банкомат 688695                         г. Троицк,Улица Радужная 2   \n",
       "2299    Банкомат 287850  Поселок Воскресенское  владение   Ок Архангель...   \n",
       "2301    Банкомат 688717                                  Поселок Крекшино2   \n",
       "2302    Банкомат 850613             Поселок ЛМСМикрорайон Солнечный г.ок 1   \n",
       "2303    Банкомат 890223                   Поселок РоговоУлица Юбилейная 1А   \n",
       "2306    Банкомат 688687                      Рабочий поселок Киевский  18б   \n",
       "2324   Банкомат 2014364  Поселок Марушкинское   Индустриальный Парк (вн...   \n",
       "2336  Доп.офис №9038/01                         г.Москва, пос. Кленово, 10   \n",
       "\n",
       "     shop_intersect       type  office_id  reg_score  priority  score pois  \n",
       "98                    Банкомат        894        NaN       NaN    0.0  NaN  \n",
       "636                  Отделение        653        NaN       NaN    0.0  NaN  \n",
       "821                   Банкомат        861        NaN       NaN    0.0  NaN  \n",
       "842                   Банкомат        884        NaN       NaN    0.0  NaN  \n",
       "849                   Банкомат        891        NaN       NaN    0.0  NaN  \n",
       "850                   Банкомат        892        NaN       NaN    0.0  NaN  \n",
       "1249                  Банкомат       1302        NaN       NaN    0.0  NaN  \n",
       "1250                  Банкомат       1303        NaN       NaN    0.0  NaN  \n",
       "1251                  Банкомат       1304        NaN       NaN    0.0  NaN  \n",
       "1313                  Банкомат       1368        NaN       NaN    0.0  NaN  \n",
       "1703                  Банкомат       1761        NaN       NaN    0.0  NaN  \n",
       "2129           true   Банкомат       2194        NaN       NaN    0.0  NaN  \n",
       "2130           true   Банкомат       2195        NaN       NaN    0.0  NaN  \n",
       "2131           true   Банкомат       2196        NaN       NaN    0.0  NaN  \n",
       "2269                  Банкомат       2336        NaN       NaN    0.0  NaN  \n",
       "2285                  Банкомат       2352        NaN       NaN    0.0  NaN  \n",
       "2286           true   Банкомат       2353        NaN       NaN    0.0  NaN  \n",
       "2287                  Банкомат       2354        NaN       NaN    0.0  NaN  \n",
       "2291                  Банкомат       2358        NaN       NaN    0.0  NaN  \n",
       "2299                  Банкомат       2368        NaN       NaN    0.0  NaN  \n",
       "2301                  Банкомат       2370        NaN       NaN    0.0  NaN  \n",
       "2302                  Банкомат       2371        NaN       NaN    0.0  NaN  \n",
       "2303                  Банкомат       2373        NaN       NaN    0.0  NaN  \n",
       "2306                  Банкомат       2376        NaN       NaN    0.0  NaN  \n",
       "2324           true   Банкомат       2372        NaN       NaN    0.0  NaN  \n",
       "2336                 Отделение        650        NaN       NaN    0.0  NaN  "
      ]
     },
     "execution_count": 125,
     "metadata": {},
     "output_type": "execute_result"
    }
   ],
   "source": [
    "banks[pd.isnull(banks['priority'])]"
   ]
  },
  {
   "cell_type": "code",
   "execution_count": 126,
   "metadata": {
    "collapsed": false
   },
   "outputs": [
    {
     "data": {
      "text/html": [
       "<div>\n",
       "<table border=\"1\" class=\"dataframe\">\n",
       "  <thead>\n",
       "    <tr style=\"text-align: right;\">\n",
       "      <th></th>\n",
       "      <th>reg_score</th>\n",
       "      <th>priority</th>\n",
       "      <th>office_id</th>\n",
       "      <th>score</th>\n",
       "      <th>pois</th>\n",
       "    </tr>\n",
       "  </thead>\n",
       "  <tbody>\n",
       "    <tr>\n",
       "      <th>0</th>\n",
       "      <td>316.10</td>\n",
       "      <td>1</td>\n",
       "      <td>2060</td>\n",
       "      <td>3319.10</td>\n",
       "      <td>[508, 837, 943, 31, 4693, 4717, 4501, 4904, 48...</td>\n",
       "    </tr>\n",
       "    <tr>\n",
       "      <th>1</th>\n",
       "      <td>135.10</td>\n",
       "      <td>2</td>\n",
       "      <td>2267</td>\n",
       "      <td>3198.10</td>\n",
       "      <td>[82, 78, 84, 787, 6722, 74, 743, 857, 926, 86,...</td>\n",
       "    </tr>\n",
       "    <tr>\n",
       "      <th>2</th>\n",
       "      <td>110.65</td>\n",
       "      <td>3</td>\n",
       "      <td>2086</td>\n",
       "      <td>3105.65</td>\n",
       "      <td>[784, 879, 907, 924, 753, 1861, 1866, 1875, 11...</td>\n",
       "    </tr>\n",
       "    <tr>\n",
       "      <th>0</th>\n",
       "      <td>573.45</td>\n",
       "      <td>1</td>\n",
       "      <td>848</td>\n",
       "      <td>3011.45</td>\n",
       "      <td>[82, 787, 6722, 743, 857, 78, 74, 974, 6723, 7...</td>\n",
       "    </tr>\n",
       "    <tr>\n",
       "      <th>1</th>\n",
       "      <td>302.35</td>\n",
       "      <td>2</td>\n",
       "      <td>809</td>\n",
       "      <td>2855.35</td>\n",
       "      <td>[31, 508, 837, 943, 4693, 4874, 4902, 4717, 48...</td>\n",
       "    </tr>\n",
       "    <tr>\n",
       "      <th>3</th>\n",
       "      <td>207.15</td>\n",
       "      <td>4</td>\n",
       "      <td>2030</td>\n",
       "      <td>2823.15</td>\n",
       "      <td>[650, 962, 887, 892, 651, 1255, 8475, 8473, 84...</td>\n",
       "    </tr>\n",
       "    <tr>\n",
       "      <th>2</th>\n",
       "      <td>94.60</td>\n",
       "      <td>3</td>\n",
       "      <td>654</td>\n",
       "      <td>2822.60</td>\n",
       "      <td>[8340, 322, 321, 700, 828, 834, 893, 779, 950,...</td>\n",
       "    </tr>\n",
       "    <tr>\n",
       "      <th>3</th>\n",
       "      <td>1242.15</td>\n",
       "      <td>4</td>\n",
       "      <td>399</td>\n",
       "      <td>2744.15</td>\n",
       "      <td>[106, 108, 855, 947, 6036, 8318, 8312, 8319, 8...</td>\n",
       "    </tr>\n",
       "    <tr>\n",
       "      <th>4</th>\n",
       "      <td>261.20</td>\n",
       "      <td>5</td>\n",
       "      <td>2161</td>\n",
       "      <td>2709.20</td>\n",
       "      <td>[613, 723, 933, 396, 616, 618, 746, 1633, 623,...</td>\n",
       "    </tr>\n",
       "    <tr>\n",
       "      <th>5</th>\n",
       "      <td>266.55</td>\n",
       "      <td>6</td>\n",
       "      <td>2085</td>\n",
       "      <td>2706.55</td>\n",
       "      <td>[973, 975, 7184, 7223, 7213, 7232, 7236, 7241,...</td>\n",
       "    </tr>\n",
       "  </tbody>\n",
       "</table>\n",
       "</div>"
      ],
      "text/plain": [
       "   reg_score  priority  office_id    score  \\\n",
       "0     316.10         1       2060  3319.10   \n",
       "1     135.10         2       2267  3198.10   \n",
       "2     110.65         3       2086  3105.65   \n",
       "0     573.45         1        848  3011.45   \n",
       "1     302.35         2        809  2855.35   \n",
       "3     207.15         4       2030  2823.15   \n",
       "2      94.60         3        654  2822.60   \n",
       "3    1242.15         4        399  2744.15   \n",
       "4     261.20         5       2161  2709.20   \n",
       "5     266.55         6       2085  2706.55   \n",
       "\n",
       "                                                pois  \n",
       "0  [508, 837, 943, 31, 4693, 4717, 4501, 4904, 48...  \n",
       "1  [82, 78, 84, 787, 6722, 74, 743, 857, 926, 86,...  \n",
       "2  [784, 879, 907, 924, 753, 1861, 1866, 1875, 11...  \n",
       "0  [82, 787, 6722, 743, 857, 78, 74, 974, 6723, 7...  \n",
       "1  [31, 508, 837, 943, 4693, 4874, 4902, 4717, 48...  \n",
       "3  [650, 962, 887, 892, 651, 1255, 8475, 8473, 84...  \n",
       "2  [8340, 322, 321, 700, 828, 834, 893, 779, 950,...  \n",
       "3  [106, 108, 855, 947, 6036, 8318, 8312, 8319, 8...  \n",
       "4  [613, 723, 933, 396, 616, 618, 746, 1633, 623,...  \n",
       "5  [973, 975, 7184, 7223, 7213, 7232, 7236, 7241,...  "
      ]
     },
     "execution_count": 126,
     "metadata": {},
     "output_type": "execute_result"
    }
   ],
   "source": [
    "results[pd.notnull(results['score'])].sort_values('score', ascending=False).head(10)"
   ]
  },
  {
   "cell_type": "markdown",
   "metadata": {},
   "source": [
    "### SCORE/USE Histogram"
   ]
  },
  {
   "cell_type": "code",
   "execution_count": 127,
   "metadata": {
    "collapsed": false
   },
   "outputs": [
    {
     "data": {
      "text/plain": [
       "Банкомат                      1480\n",
       "Отделение                      744\n",
       "Отделение самообслуживания     167\n",
       "Name: type, dtype: int64"
      ]
     },
     "execution_count": 127,
     "metadata": {},
     "output_type": "execute_result"
    }
   ],
   "source": [
    "banks['type'].value_counts()"
   ]
  },
  {
   "cell_type": "code",
   "execution_count": 128,
   "metadata": {
    "collapsed": false
   },
   "outputs": [
    {
     "data": {
      "text/plain": [
       "<matplotlib.text.Text at 0x11c3936d0>"
      ]
     },
     "execution_count": 128,
     "metadata": {},
     "output_type": "execute_result"
    },
    {
     "data": {
      "image/png": "[encoded data removed]",
      "text/plain": [
       "<matplotlib.figure.Figure at 0x11c3e84d0>"
      ]
     },
     "metadata": {},
     "output_type": "display_data"
    }
   ],
   "source": [
    "results['score'].sort_values(ascending=False).reset_index(drop=True).plot(kind='area', stacked=False, color='teal',figsize=(16,10))\n",
    "plt.xlabel('Bank offices, sorted')\n",
    "plt.ylabel('Score')\n",
    "plt.title('Distribution of scores, sorted')"
   ]
  },
  {
   "cell_type": "code",
   "execution_count": 129,
   "metadata": {
    "collapsed": false
   },
   "outputs": [
    {
     "data": {
      "text/plain": [
       "<matplotlib.text.Text at 0x11bf25190>"
      ]
     },
     "execution_count": 129,
     "metadata": {},
     "output_type": "execute_result"
    },
    {
     "data": {
      "image/png": "[encoded data removed]",
      "text/plain": [
       "<matplotlib.figure.Figure at 0x11c3e8050>"
      ]
     },
     "metadata": {},
     "output_type": "display_data"
    }
   ],
   "source": [
    "fig, axes = plt.subplots(2,1, figsize=(18,12))\n",
    "\n",
    "banks.loc[banks['type']!=u'Банкомат', 'score'].sort_values(ascending=False).reset_index(drop=True).plot(kind='area', stacked=False, color='teal',ax=axes[0])\n",
    "banks.loc[banks['type']==u'Банкомат', 'score'].sort_values(ascending=False).reset_index(drop=True).plot(kind='area', stacked=False, color='black',ax=axes[1])\n",
    "axes[0].set_title('Offices')\n",
    "axes[1].set_title('ATMs')"
   ]
  },
  {
   "cell_type": "code",
   "execution_count": null,
   "metadata": {
    "collapsed": false
   },
   "outputs": [],
   "source": []
  },
  {
   "cell_type": "code",
   "execution_count": 130,
   "metadata": {
    "collapsed": false
   },
   "outputs": [
    {
     "name": "stdout",
     "output_type": "stream",
     "text": [
      "166 first Offices will cover more than 50% of potential demand\n",
      "213 first ATMs will cover more than 50% of potential demand\n"
     ]
    },
    {
     "data": {
      "text/plain": [
       "<matplotlib.legend.Legend at 0x1156cf6d0>"
      ]
     },
     "execution_count": 130,
     "metadata": {},
     "output_type": "execute_result"
    },
    {
     "data": {
      "image/png": "[encoded data removed]",
      "text/plain": [
       "<matplotlib.figure.Figure at 0x11c41a290>"
      ]
     },
     "metadata": {},
     "output_type": "display_data"
    }
   ],
   "source": [
    "fig, ax = plt.subplots(figsize=(12,12))\n",
    "\n",
    "office_score = banks.loc[banks['type']!=u'Банкомат', 'score'].fillna(0)\n",
    "atm_score = banks.loc[banks['type']==u'Банкомат', 'score'].fillna(0)\n",
    "\n",
    "colors = ('teal', 'red')\n",
    "for color, el, name in zip(colors, (office_score, atm_score), ('Office', 'ATM')):\n",
    "    el = 100*el.sort_values(ascending=False).reset_index(drop=True).cumsum()/el.sum()\n",
    "    el.index = 100.*el.index/len(el)\n",
    "    el.plot(kind='area', stacked=False ,ax=ax, color=color, alpha=.2, label=name)\n",
    "    \n",
    "    ix = el[el>=50].index[0] # first object above 50% of total\n",
    "    plt.vlines(ix, 0, 100, colors=color, label='50% of {}'.format(name))\n",
    "    print(\"{} first {}s will cover more than 50% of potential demand\".format(int(ix*len(el)/100),name))\n",
    "    \n",
    "\n",
    "\n",
    "plt.hlines(50, 0, 100, colors='b', label='50%')\n",
    "\n",
    "plt.xlabel('Bank offices, descending by priority')\n",
    "plt.plot([[0,100],[0,2300]])\n",
    "plt.ylabel('Total score, %')\n",
    "plt.title('ROC, Distribution of scores')\n",
    "plt.legend()"
   ]
  },
  {
   "cell_type": "markdown",
   "metadata": {},
   "source": [
    "## Distribution of scores"
   ]
  },
  {
   "cell_type": "code",
   "execution_count": 131,
   "metadata": {
    "collapsed": false
   },
   "outputs": [],
   "source": [
    "pois = gp.read_file('../data/real/poi.geojson', encoding=\"utf-8\")"
   ]
  },
  {
   "cell_type": "code",
   "execution_count": 132,
   "metadata": {
    "collapsed": false
   },
   "outputs": [],
   "source": [
    "pois['score'] = pois['score'].astype(float)"
   ]
  },
  {
   "cell_type": "code",
   "execution_count": 133,
   "metadata": {
    "collapsed": false
   },
   "outputs": [
    {
     "data": {
      "text/plain": [
       "<matplotlib.text.Text at 0x11ec48710>"
      ]
     },
     "execution_count": 133,
     "metadata": {},
     "output_type": "execute_result"
    },
    {
     "data": {
      "image/png": "[encoded data removed]",
      "text/plain": [
       "<matplotlib.figure.Figure at 0x11ec40210>"
      ]
     },
     "metadata": {},
     "output_type": "display_data"
    }
   ],
   "source": [
    "pois['score'].sort_values(ascending=False).reset_index(drop=True).plot(kind='area', stacked=False, color='teal',figsize=(12,12))\n",
    "plt.title(\"Distribution of scores amoung POI's\")\n",
    "plt.xlabel('Pois, sorted decending')\n",
    "plt.ylabel('Score')"
   ]
  },
  {
   "cell_type": "code",
   "execution_count": 134,
   "metadata": {
    "collapsed": false
   },
   "outputs": [
    {
     "data": {
      "text/html": [
       "<div>\n",
       "<table border=\"1\" class=\"dataframe\">\n",
       "  <thead>\n",
       "    <tr>\n",
       "      <th></th>\n",
       "      <th colspan=\"3\" halign=\"left\">score</th>\n",
       "    </tr>\n",
       "    <tr>\n",
       "      <th></th>\n",
       "      <th>sum</th>\n",
       "      <th>count</th>\n",
       "      <th>mean</th>\n",
       "    </tr>\n",
       "    <tr>\n",
       "      <th>group</th>\n",
       "      <th></th>\n",
       "      <th></th>\n",
       "      <th></th>\n",
       "    </tr>\n",
       "  </thead>\n",
       "  <tbody>\n",
       "    <tr>\n",
       "      <th>TC</th>\n",
       "      <td>58500.00</td>\n",
       "      <td>195</td>\n",
       "      <td>300.000000</td>\n",
       "    </tr>\n",
       "    <tr>\n",
       "      <th>transport</th>\n",
       "      <td>294250.00</td>\n",
       "      <td>10958</td>\n",
       "      <td>26.852528</td>\n",
       "    </tr>\n",
       "    <tr>\n",
       "      <th>Больницы</th>\n",
       "      <td>1665.00</td>\n",
       "      <td>147</td>\n",
       "      <td>11.326531</td>\n",
       "    </tr>\n",
       "    <tr>\n",
       "      <th>ВОИ</th>\n",
       "      <td>1450.00</td>\n",
       "      <td>26</td>\n",
       "      <td>55.769231</td>\n",
       "    </tr>\n",
       "    <tr>\n",
       "      <th>Дома престарелых</th>\n",
       "      <td>400.00</td>\n",
       "      <td>16</td>\n",
       "      <td>25.000000</td>\n",
       "    </tr>\n",
       "    <tr>\n",
       "      <th>Культурные мероприятия для инвалидов</th>\n",
       "      <td>0.25</td>\n",
       "      <td>1</td>\n",
       "      <td>0.250000</td>\n",
       "    </tr>\n",
       "    <tr>\n",
       "      <th>НКО</th>\n",
       "      <td>5601.50</td>\n",
       "      <td>107</td>\n",
       "      <td>52.350467</td>\n",
       "    </tr>\n",
       "    <tr>\n",
       "      <th>Образовательные учреждения с квотами для инвалидов</th>\n",
       "      <td>13200.00</td>\n",
       "      <td>124</td>\n",
       "      <td>106.451613</td>\n",
       "    </tr>\n",
       "    <tr>\n",
       "      <th>Работодатели инвалидов</th>\n",
       "      <td>5925.00</td>\n",
       "      <td>29</td>\n",
       "      <td>204.310345</td>\n",
       "    </tr>\n",
       "    <tr>\n",
       "      <th>Ресурсные центры</th>\n",
       "      <td>4275.00</td>\n",
       "      <td>32</td>\n",
       "      <td>133.593750</td>\n",
       "    </tr>\n",
       "    <tr>\n",
       "      <th>Специальные объекты культуры для инвалидов</th>\n",
       "      <td>2000.00</td>\n",
       "      <td>27</td>\n",
       "      <td>74.074074</td>\n",
       "    </tr>\n",
       "    <tr>\n",
       "      <th>Спорт</th>\n",
       "      <td>2010.75</td>\n",
       "      <td>101</td>\n",
       "      <td>19.908416</td>\n",
       "    </tr>\n",
       "    <tr>\n",
       "      <th>Центры реабилитации</th>\n",
       "      <td>10100.00</td>\n",
       "      <td>44</td>\n",
       "      <td>229.545455</td>\n",
       "    </tr>\n",
       "    <tr>\n",
       "      <th>Центры социального обслуживания</th>\n",
       "      <td>12400.00</td>\n",
       "      <td>63</td>\n",
       "      <td>196.825397</td>\n",
       "    </tr>\n",
       "  </tbody>\n",
       "</table>\n",
       "</div>"
      ],
      "text/plain": [
       "                                                        score         \\\n",
       "                                                          sum  count   \n",
       "group                                                                  \n",
       "TC                                                   58500.00    195   \n",
       "transport                                           294250.00  10958   \n",
       "Больницы                                              1665.00    147   \n",
       "ВОИ                                                   1450.00     26   \n",
       "Дома престарелых                                       400.00     16   \n",
       "Культурные мероприятия для инвалидов                     0.25      1   \n",
       "НКО                                                   5601.50    107   \n",
       "Образовательные учреждения с квотами для инвалидов   13200.00    124   \n",
       "Работодатели инвалидов                                5925.00     29   \n",
       "Ресурсные центры                                      4275.00     32   \n",
       "Специальные объекты культуры для инвалидов            2000.00     27   \n",
       "Спорт                                                 2010.75    101   \n",
       "Центры реабилитации                                  10100.00     44   \n",
       "Центры социального обслуживания                      12400.00     63   \n",
       "\n",
       "                                                                \n",
       "                                                          mean  \n",
       "group                                                           \n",
       "TC                                                  300.000000  \n",
       "transport                                            26.852528  \n",
       "Больницы                                             11.326531  \n",
       "ВОИ                                                  55.769231  \n",
       "Дома престарелых                                     25.000000  \n",
       "Культурные мероприятия для инвалидов                  0.250000  \n",
       "НКО                                                  52.350467  \n",
       "Образовательные учреждения с квотами для инвалидов  106.451613  \n",
       "Работодатели инвалидов                              204.310345  \n",
       "Ресурсные центры                                    133.593750  \n",
       "Специальные объекты культуры для инвалидов           74.074074  \n",
       "Спорт                                                19.908416  \n",
       "Центры реабилитации                                 229.545455  \n",
       "Центры социального обслуживания                     196.825397  "
      ]
     },
     "execution_count": 134,
     "metadata": {},
     "output_type": "execute_result"
    }
   ],
   "source": [
    "pois[['score','group']].groupby('group').agg(['sum', 'count','mean'])"
   ]
  },
  {
   "cell_type": "code",
   "execution_count": 135,
   "metadata": {
    "collapsed": false
   },
   "outputs": [
    {
     "name": "stdout",
     "output_type": "stream",
     "text": [
      "411777.5\n",
      "11870\n",
      "34.6906065712\n"
     ]
    }
   ],
   "source": [
    "print pois['score'].sum()\n",
    "print pois['score'].count()\n",
    "print pois['score'].mean()"
   ]
  },
  {
   "cell_type": "code",
   "execution_count": 136,
   "metadata": {
    "collapsed": false
   },
   "outputs": [
    {
     "data": {
      "text/html": [
       "<div>\n",
       "<table border=\"1\" class=\"dataframe\">\n",
       "  <thead>\n",
       "    <tr>\n",
       "      <th></th>\n",
       "      <th colspan=\"3\" halign=\"left\">score</th>\n",
       "    </tr>\n",
       "    <tr>\n",
       "      <th></th>\n",
       "      <th>sum</th>\n",
       "      <th>count</th>\n",
       "      <th>mean</th>\n",
       "    </tr>\n",
       "    <tr>\n",
       "      <th>subgroup</th>\n",
       "      <th></th>\n",
       "      <th></th>\n",
       "      <th></th>\n",
       "    </tr>\n",
       "  </thead>\n",
       "  <tbody>\n",
       "    <tr>\n",
       "      <th>mcc</th>\n",
       "      <td>4650.0</td>\n",
       "      <td>31</td>\n",
       "      <td>150.000000</td>\n",
       "    </tr>\n",
       "    <tr>\n",
       "      <th>stops</th>\n",
       "      <td>270200.0</td>\n",
       "      <td>10808</td>\n",
       "      <td>25.000000</td>\n",
       "    </tr>\n",
       "    <tr>\n",
       "      <th>subway</th>\n",
       "      <td>10000.0</td>\n",
       "      <td>25</td>\n",
       "      <td>400.000000</td>\n",
       "    </tr>\n",
       "    <tr>\n",
       "      <th>train</th>\n",
       "      <td>9400.0</td>\n",
       "      <td>94</td>\n",
       "      <td>100.000000</td>\n",
       "    </tr>\n",
       "    <tr>\n",
       "      <th>АНО</th>\n",
       "      <td>100.0</td>\n",
       "      <td>3</td>\n",
       "      <td>33.333333</td>\n",
       "    </tr>\n",
       "    <tr>\n",
       "      <th>БФ</th>\n",
       "      <td>177.5</td>\n",
       "      <td>5</td>\n",
       "      <td>35.500000</td>\n",
       "    </tr>\n",
       "    <tr>\n",
       "      <th>Библиотеки</th>\n",
       "      <td>300.0</td>\n",
       "      <td>8</td>\n",
       "      <td>37.500000</td>\n",
       "    </tr>\n",
       "    <tr>\n",
       "      <th>ВОГ</th>\n",
       "      <td>2407.5</td>\n",
       "      <td>51</td>\n",
       "      <td>47.205882</td>\n",
       "    </tr>\n",
       "    <tr>\n",
       "      <th>ВОГ, главное отделение</th>\n",
       "      <td>300.0</td>\n",
       "      <td>1</td>\n",
       "      <td>300.000000</td>\n",
       "    </tr>\n",
       "    <tr>\n",
       "      <th>ВОИ</th>\n",
       "      <td>1250.0</td>\n",
       "      <td>25</td>\n",
       "      <td>50.000000</td>\n",
       "    </tr>\n",
       "    <tr>\n",
       "      <th>ВОИ, Главное отделение</th>\n",
       "      <td>500.0</td>\n",
       "      <td>2</td>\n",
       "      <td>250.000000</td>\n",
       "    </tr>\n",
       "    <tr>\n",
       "      <th>ВОС</th>\n",
       "      <td>1150.0</td>\n",
       "      <td>23</td>\n",
       "      <td>50.000000</td>\n",
       "    </tr>\n",
       "    <tr>\n",
       "      <th>ВОС, Главное отделение</th>\n",
       "      <td>300.0</td>\n",
       "      <td>1</td>\n",
       "      <td>300.000000</td>\n",
       "    </tr>\n",
       "    <tr>\n",
       "      <th>ВУЗЫ</th>\n",
       "      <td>555.0</td>\n",
       "      <td>14</td>\n",
       "      <td>39.642857</td>\n",
       "    </tr>\n",
       "    <tr>\n",
       "      <th>Городские больницы</th>\n",
       "      <td>225.0</td>\n",
       "      <td>3</td>\n",
       "      <td>75.000000</td>\n",
       "    </tr>\n",
       "    <tr>\n",
       "      <th>Детские площадки</th>\n",
       "      <td>50.0</td>\n",
       "      <td>1</td>\n",
       "      <td>50.000000</td>\n",
       "    </tr>\n",
       "    <tr>\n",
       "      <th>Дневные стационары</th>\n",
       "      <td>1440.0</td>\n",
       "      <td>144</td>\n",
       "      <td>10.000000</td>\n",
       "    </tr>\n",
       "    <tr>\n",
       "      <th>Дома престарелых</th>\n",
       "      <td>400.0</td>\n",
       "      <td>16</td>\n",
       "      <td>25.000000</td>\n",
       "    </tr>\n",
       "    <tr>\n",
       "      <th>Кино</th>\n",
       "      <td>100.0</td>\n",
       "      <td>2</td>\n",
       "      <td>50.000000</td>\n",
       "    </tr>\n",
       "    <tr>\n",
       "      <th>Клуб</th>\n",
       "      <td>895.0</td>\n",
       "      <td>16</td>\n",
       "      <td>55.937500</td>\n",
       "    </tr>\n",
       "    <tr>\n",
       "      <th>Колледжи</th>\n",
       "      <td>500.0</td>\n",
       "      <td>10</td>\n",
       "      <td>50.000000</td>\n",
       "    </tr>\n",
       "    <tr>\n",
       "      <th>Мастер-классы</th>\n",
       "      <td>75.0</td>\n",
       "      <td>1</td>\n",
       "      <td>75.000000</td>\n",
       "    </tr>\n",
       "    <tr>\n",
       "      <th>Мастерские</th>\n",
       "      <td>5925.0</td>\n",
       "      <td>29</td>\n",
       "      <td>204.310345</td>\n",
       "    </tr>\n",
       "    <tr>\n",
       "      <th>НКО</th>\n",
       "      <td>900.0</td>\n",
       "      <td>20</td>\n",
       "      <td>45.000000</td>\n",
       "    </tr>\n",
       "    <tr>\n",
       "      <th>Общежитие ВУЗа</th>\n",
       "      <td>75.0</td>\n",
       "      <td>1</td>\n",
       "      <td>75.000000</td>\n",
       "    </tr>\n",
       "    <tr>\n",
       "      <th>Объединение</th>\n",
       "      <td>100.0</td>\n",
       "      <td>1</td>\n",
       "      <td>100.000000</td>\n",
       "    </tr>\n",
       "    <tr>\n",
       "      <th>Одежда и обувь для детей с ограничением по здоровью</th>\n",
       "      <td>45.0</td>\n",
       "      <td>3</td>\n",
       "      <td>15.000000</td>\n",
       "    </tr>\n",
       "    <tr>\n",
       "      <th>Пункты выдачи и пункты проката технических средств реабилитации</th>\n",
       "      <td>4200.0</td>\n",
       "      <td>28</td>\n",
       "      <td>150.000000</td>\n",
       "    </tr>\n",
       "    <tr>\n",
       "      <th>РОО</th>\n",
       "      <td>256.5</td>\n",
       "      <td>11</td>\n",
       "      <td>23.318182</td>\n",
       "    </tr>\n",
       "    <tr>\n",
       "      <th>Развивающие центры</th>\n",
       "      <td>7100.0</td>\n",
       "      <td>35</td>\n",
       "      <td>202.857143</td>\n",
       "    </tr>\n",
       "    <tr>\n",
       "      <th>Разовые мероприятия</th>\n",
       "      <td>1.0</td>\n",
       "      <td>4</td>\n",
       "      <td>0.250000</td>\n",
       "    </tr>\n",
       "    <tr>\n",
       "      <th>Ресурсные центры</th>\n",
       "      <td>30.0</td>\n",
       "      <td>1</td>\n",
       "      <td>30.000000</td>\n",
       "    </tr>\n",
       "    <tr>\n",
       "      <th>Спорт</th>\n",
       "      <td>1620.0</td>\n",
       "      <td>88</td>\n",
       "      <td>18.409091</td>\n",
       "    </tr>\n",
       "    <tr>\n",
       "      <th>Танцы</th>\n",
       "      <td>50.0</td>\n",
       "      <td>1</td>\n",
       "      <td>50.000000</td>\n",
       "    </tr>\n",
       "    <tr>\n",
       "      <th>Театр</th>\n",
       "      <td>400.0</td>\n",
       "      <td>4</td>\n",
       "      <td>100.000000</td>\n",
       "    </tr>\n",
       "    <tr>\n",
       "      <th>Торговый центр</th>\n",
       "      <td>58500.0</td>\n",
       "      <td>195</td>\n",
       "      <td>300.000000</td>\n",
       "    </tr>\n",
       "    <tr>\n",
       "      <th>Училище</th>\n",
       "      <td>600.0</td>\n",
       "      <td>6</td>\n",
       "      <td>100.000000</td>\n",
       "    </tr>\n",
       "    <tr>\n",
       "      <th>Центр ремесел</th>\n",
       "      <td>200.0</td>\n",
       "      <td>1</td>\n",
       "      <td>200.000000</td>\n",
       "    </tr>\n",
       "    <tr>\n",
       "      <th>Центры социального обслуживания</th>\n",
       "      <td>12400.0</td>\n",
       "      <td>63</td>\n",
       "      <td>196.825397</td>\n",
       "    </tr>\n",
       "    <tr>\n",
       "      <th>Центры социальной реабилитации</th>\n",
       "      <td>3000.0</td>\n",
       "      <td>9</td>\n",
       "      <td>333.333333</td>\n",
       "    </tr>\n",
       "    <tr>\n",
       "      <th>Школы общеобразовательные для детей с ограничением по здоровью</th>\n",
       "      <td>5800.0</td>\n",
       "      <td>58</td>\n",
       "      <td>100.000000</td>\n",
       "    </tr>\n",
       "    <tr>\n",
       "      <th>Школы-интернаты</th>\n",
       "      <td>5600.0</td>\n",
       "      <td>28</td>\n",
       "      <td>200.000000</td>\n",
       "    </tr>\n",
       "  </tbody>\n",
       "</table>\n",
       "</div>"
      ],
      "text/plain": [
       "                                                       score         \\\n",
       "                                                         sum  count   \n",
       "subgroup                                                              \n",
       "mcc                                                   4650.0     31   \n",
       "stops                                               270200.0  10808   \n",
       "subway                                               10000.0     25   \n",
       "train                                                 9400.0     94   \n",
       "АНО                                                    100.0      3   \n",
       "БФ                                                     177.5      5   \n",
       "Библиотеки                                             300.0      8   \n",
       "ВОГ                                                   2407.5     51   \n",
       "ВОГ, главное отделение                                 300.0      1   \n",
       "ВОИ                                                   1250.0     25   \n",
       "ВОИ, Главное отделение                                 500.0      2   \n",
       "ВОС                                                   1150.0     23   \n",
       "ВОС, Главное отделение                                 300.0      1   \n",
       "ВУЗЫ                                                   555.0     14   \n",
       "Городские больницы                                     225.0      3   \n",
       "Детские площадки                                        50.0      1   \n",
       "Дневные стационары                                    1440.0    144   \n",
       "Дома престарелых                                       400.0     16   \n",
       "Кино                                                   100.0      2   \n",
       "Клуб                                                   895.0     16   \n",
       "Колледжи                                               500.0     10   \n",
       "Мастер-классы                                           75.0      1   \n",
       "Мастерские                                            5925.0     29   \n",
       "НКО                                                    900.0     20   \n",
       "Общежитие ВУЗа                                          75.0      1   \n",
       "Объединение                                            100.0      1   \n",
       "Одежда и обувь для детей с ограничением по здор...      45.0      3   \n",
       "Пункты выдачи и пункты проката технических сред...    4200.0     28   \n",
       "РОО                                                    256.5     11   \n",
       "Развивающие центры                                    7100.0     35   \n",
       "Разовые мероприятия                                      1.0      4   \n",
       "Ресурсные центры                                        30.0      1   \n",
       "Спорт                                                 1620.0     88   \n",
       "Танцы                                                   50.0      1   \n",
       "Театр                                                  400.0      4   \n",
       "Торговый центр                                       58500.0    195   \n",
       "Училище                                                600.0      6   \n",
       "Центр ремесел                                          200.0      1   \n",
       "Центры социального обслуживания                      12400.0     63   \n",
       "Центры социальной реабилитации                        3000.0      9   \n",
       "Школы общеобразовательные для детей с ограничен...    5800.0     58   \n",
       "Школы-интернаты                                       5600.0     28   \n",
       "\n",
       "                                                                \n",
       "                                                          mean  \n",
       "subgroup                                                        \n",
       "mcc                                                 150.000000  \n",
       "stops                                                25.000000  \n",
       "subway                                              400.000000  \n",
       "train                                               100.000000  \n",
       "АНО                                                  33.333333  \n",
       "БФ                                                   35.500000  \n",
       "Библиотеки                                           37.500000  \n",
       "ВОГ                                                  47.205882  \n",
       "ВОГ, главное отделение                              300.000000  \n",
       "ВОИ                                                  50.000000  \n",
       "ВОИ, Главное отделение                              250.000000  \n",
       "ВОС                                                  50.000000  \n",
       "ВОС, Главное отделение                              300.000000  \n",
       "ВУЗЫ                                                 39.642857  \n",
       "Городские больницы                                   75.000000  \n",
       "Детские площадки                                     50.000000  \n",
       "Дневные стационары                                   10.000000  \n",
       "Дома престарелых                                     25.000000  \n",
       "Кино                                                 50.000000  \n",
       "Клуб                                                 55.937500  \n",
       "Колледжи                                             50.000000  \n",
       "Мастер-классы                                        75.000000  \n",
       "Мастерские                                          204.310345  \n",
       "НКО                                                  45.000000  \n",
       "Общежитие ВУЗа                                       75.000000  \n",
       "Объединение                                         100.000000  \n",
       "Одежда и обувь для детей с ограничением по здор...   15.000000  \n",
       "Пункты выдачи и пункты проката технических сред...  150.000000  \n",
       "РОО                                                  23.318182  \n",
       "Развивающие центры                                  202.857143  \n",
       "Разовые мероприятия                                   0.250000  \n",
       "Ресурсные центры                                     30.000000  \n",
       "Спорт                                                18.409091  \n",
       "Танцы                                                50.000000  \n",
       "Театр                                               100.000000  \n",
       "Торговый центр                                      300.000000  \n",
       "Училище                                             100.000000  \n",
       "Центр ремесел                                       200.000000  \n",
       "Центры социального обслуживания                     196.825397  \n",
       "Центры социальной реабилитации                      333.333333  \n",
       "Школы общеобразовательные для детей с ограничен...  100.000000  \n",
       "Школы-интернаты                                     200.000000  "
      ]
     },
     "execution_count": 136,
     "metadata": {},
     "output_type": "execute_result"
    }
   ],
   "source": [
    "pois[['score','subgroup']].groupby('subgroup').agg(['sum', 'count','mean'])"
   ]
  },
  {
   "cell_type": "markdown",
   "metadata": {},
   "source": [
    "## Contribution to first 20"
   ]
  },
  {
   "cell_type": "code",
   "execution_count": 137,
   "metadata": {
    "collapsed": false
   },
   "outputs": [],
   "source": [
    "z = reduce(lambda x,y: x+y, results.sort_values('score', ascending=False).head(20)['pois'].tolist())"
   ]
  },
  {
   "cell_type": "code",
   "execution_count": 138,
   "metadata": {
    "collapsed": false
   },
   "outputs": [
    {
     "data": {
      "text/plain": [
       "(0, 11)"
      ]
     },
     "execution_count": 138,
     "metadata": {},
     "output_type": "execute_result"
    }
   ],
   "source": [
    "pois20 = pois[pois.pid.isin(z)]\n",
    "pois20.shape"
   ]
  },
  {
   "cell_type": "code",
   "execution_count": 139,
   "metadata": {
    "collapsed": false
   },
   "outputs": [],
   "source": [
    "pp = banks.sort_values('score', ascending=False).head(20)\n",
    "pp = pp[['office_id', 'pois']].set_index('office_id').to_dict()['pois']"
   ]
  },
  {
   "cell_type": "code",
   "execution_count": 140,
   "metadata": {
    "collapsed": false
   },
   "outputs": [],
   "source": [
    "r = {}\n",
    "for key in pp:\n",
    "    for x in pp[key]:\n",
    "        r[int(x)] = key\n",
    "r = pd.Series(r)         "
   ]
  },
  {
   "cell_type": "code",
   "execution_count": 141,
   "metadata": {
    "collapsed": false
   },
   "outputs": [],
   "source": [
    "#pois.set_index('pid', inplace=1)\n",
    "pois['office_id'] = r"
   ]
  },
  {
   "cell_type": "code",
   "execution_count": 142,
   "metadata": {
    "collapsed": false
   },
   "outputs": [
    {
     "data": {
      "text/html": [
       "<div>\n",
       "<table border=\"1\" class=\"dataframe\">\n",
       "  <thead>\n",
       "    <tr style=\"text-align: right;\">\n",
       "      <th></th>\n",
       "      <th>address</th>\n",
       "      <th>disability</th>\n",
       "      <th>geometry</th>\n",
       "      <th>group</th>\n",
       "      <th>id</th>\n",
       "      <th>importance</th>\n",
       "      <th>name</th>\n",
       "      <th>pid</th>\n",
       "      <th>pop</th>\n",
       "      <th>score</th>\n",
       "      <th>subgroup</th>\n",
       "      <th>office_id</th>\n",
       "    </tr>\n",
       "  </thead>\n",
       "  <tbody>\n",
       "    <tr>\n",
       "      <th>0</th>\n",
       "      <td>109451, Москва, Перервинский бульвар, дом 5, к...</td>\n",
       "      <td>general</td>\n",
       "      <td>POINT (37.765169 55.662807)</td>\n",
       "      <td>Больницы</td>\n",
       "      <td>75</td>\n",
       "      <td>1.0</td>\n",
       "      <td>ГБУЗ Онкологический диспансер № 5 ДЗМ</td>\n",
       "      <td>76</td>\n",
       "      <td>10</td>\n",
       "      <td>10.0</td>\n",
       "      <td>Дневные стационары</td>\n",
       "      <td>NaN</td>\n",
       "    </tr>\n",
       "    <tr>\n",
       "      <th>1</th>\n",
       "      <td>109387, г. Москва, ул. Тихая, д. 23</td>\n",
       "      <td>deaf</td>\n",
       "      <td>POINT (37.741669 55.686033)</td>\n",
       "      <td>НКО</td>\n",
       "      <td>101</td>\n",
       "      <td>2.0</td>\n",
       "      <td>МГО ВОГ Местное отделение</td>\n",
       "      <td>102</td>\n",
       "      <td>25</td>\n",
       "      <td>50.0</td>\n",
       "      <td>ВОГ</td>\n",
       "      <td>NaN</td>\n",
       "    </tr>\n",
       "  </tbody>\n",
       "</table>\n",
       "</div>"
      ],
      "text/plain": [
       "                                             address disability  \\\n",
       "0  109451, Москва, Перервинский бульвар, дом 5, к...    general   \n",
       "1                109387, г. Москва, ул. Тихая, д. 23       deaf   \n",
       "\n",
       "                      geometry     group   id importance  \\\n",
       "0  POINT (37.765169 55.662807)  Больницы   75        1.0   \n",
       "1  POINT (37.741669 55.686033)       НКО  101        2.0   \n",
       "\n",
       "                                    name  pid pop  score            subgroup  \\\n",
       "0  ГБУЗ Онкологический диспансер № 5 ДЗМ   76  10   10.0  Дневные стационары   \n",
       "1              МГО ВОГ Местное отделение  102  25   50.0                 ВОГ   \n",
       "\n",
       "   office_id  \n",
       "0        NaN  \n",
       "1        NaN  "
      ]
     },
     "execution_count": 142,
     "metadata": {},
     "output_type": "execute_result"
    }
   ],
   "source": [
    "pois.head(2)"
   ]
  },
  {
   "cell_type": "code",
   "execution_count": 143,
   "metadata": {
    "collapsed": false
   },
   "outputs": [],
   "source": [
    "contribution = pois[pd.notnull(pois['office_id'])].groupby(['office_id', 'group']).agg({'score':sum}).unstack().fillna(0)\n",
    "contribution.index = contribution.index.astype(int)"
   ]
  },
  {
   "cell_type": "code",
   "execution_count": 144,
   "metadata": {
    "collapsed": false
   },
   "outputs": [],
   "source": [
    "contribution['reg'] = results[['office_id', 'reg_score']].set_index('office_id')"
   ]
  },
  {
   "cell_type": "code",
   "execution_count": 145,
   "metadata": {
    "collapsed": false
   },
   "outputs": [],
   "source": [
    "c_summ = contribution.sum(1)"
   ]
  },
  {
   "cell_type": "code",
   "execution_count": 146,
   "metadata": {
    "collapsed": false
   },
   "outputs": [
    {
     "data": {
      "text/plain": [
       "office_id\n",
       "1107    1817.95\n",
       "399     1767.15\n",
       "654     1729.60\n",
       "2267    1610.10\n",
       "2085    1491.55\n",
       "2060    1426.10\n",
       "1512    1356.35\n",
       "1938    1353.45\n",
       "1128    1325.75\n",
       "2030    1267.15\n",
       "715     1200.10\n",
       "2075    1178.85\n",
       "2161    1171.20\n",
       "2086    1050.65\n",
       "778      931.75\n",
       "705      857.40\n",
       "2379     838.30\n",
       "848      798.45\n",
       "875      157.65\n",
       "dtype: float64"
      ]
     },
     "execution_count": 146,
     "metadata": {},
     "output_type": "execute_result"
    }
   ],
   "source": [
    "c_summ.sort_values(ascending=False)"
   ]
  },
  {
   "cell_type": "code",
   "execution_count": null,
   "metadata": {
    "collapsed": false
   },
   "outputs": [],
   "source": []
  },
  {
   "cell_type": "code",
   "execution_count": 147,
   "metadata": {
    "collapsed": false
   },
   "outputs": [],
   "source": [
    "contribution['total'] = contribution.sum(1)"
   ]
  },
  {
   "cell_type": "code",
   "execution_count": 148,
   "metadata": {
    "collapsed": false
   },
   "outputs": [
    {
     "data": {
      "text/plain": [
       "(19, 15)"
      ]
     },
     "execution_count": 148,
     "metadata": {},
     "output_type": "execute_result"
    }
   ],
   "source": [
    "contribution.shape"
   ]
  },
  {
   "cell_type": "code",
   "execution_count": 149,
   "metadata": {
    "collapsed": false
   },
   "outputs": [],
   "source": [
    "contribution.columns =  contribution.columns.get_level_values(1).tolist()[:-2] + ['reg_score', 'total']"
   ]
  },
  {
   "cell_type": "code",
   "execution_count": 150,
   "metadata": {
    "collapsed": false
   },
   "outputs": [
    {
     "data": {
      "text/plain": [
       "Index([                                                u'TC',\n",
       "                                                u'transport',\n",
       "                                                 u'Больницы',\n",
       "                                                      u'ВОИ',\n",
       "                                         u'Дома престарелых',\n",
       "                                                      u'НКО',\n",
       "       u'Образовательные учреждения с квотами для инвалидов',\n",
       "                                   u'Работодатели инвалидов',\n",
       "                                         u'Ресурсные центры',\n",
       "               u'Специальные объекты культуры для инвалидов',\n",
       "                                                    u'Спорт',\n",
       "                                      u'Центры реабилитации',\n",
       "                          u'Центры социального обслуживания',\n",
       "                                                u'reg_score',\n",
       "                                                    u'total'],\n",
       "      dtype='object')"
      ]
     },
     "execution_count": 150,
     "metadata": {},
     "output_type": "execute_result"
    }
   ],
   "source": [
    "contribution.columns"
   ]
  },
  {
   "cell_type": "code",
   "execution_count": 151,
   "metadata": {
    "collapsed": false
   },
   "outputs": [],
   "source": [
    "contribution.columns = ['TC', 'transport', 'hospital', 'VOI',\n",
    "                        'Elderly','Cultural events','NCO', 'Education', \n",
    "                       'Resource_services','Cutural objects', 'Sport', \n",
    "                        'Reabilitation', 'Social service','Reg_score', 'total']"
   ]
  },
  {
   "cell_type": "code",
   "execution_count": 152,
   "metadata": {
    "collapsed": false
   },
   "outputs": [
    {
     "data": {
      "text/plain": [
       "<matplotlib.text.Text at 0x11ecb0750>"
      ]
     },
     "execution_count": 152,
     "metadata": {},
     "output_type": "execute_result"
    },
    {
     "data": {
      "image/png": "[encoded data removed]",
      "text/plain": [
       "<matplotlib.figure.Figure at 0x11ec9c550>"
      ]
     },
     "metadata": {},
     "output_type": "display_data"
    }
   ],
   "source": [
    "contribution.sort_values('total', ascending=0)[[x for x in contribution.columns if x != 'total']].plot(kind='bar', color=Tableau_20.mpl_colors\n",
    ", stacked=1, figsize=(18,10))\n",
    "plt.ylabel('score')\n",
    "plt.title('Contribution of score to top 20 offices')"
   ]
  },
  {
   "cell_type": "markdown",
   "metadata": {
    "collapsed": true
   },
   "source": [
    "## Test Matching with SB results"
   ]
  },
  {
   "cell_type": "code",
   "execution_count": null,
   "metadata": {
    "collapsed": true
   },
   "outputs": [],
   "source": []
  }
 ],
 "metadata": {
  "anaconda-cloud": {},
  "kernelspec": {
   "display_name": "Python [default]",
   "language": "python",
   "name": "python2"
  },
  "language_info": {
   "codemirror_mode": {
    "name": "ipython",
    "version": 2
   },
   "file_extension": ".py",
   "mimetype": "text/x-python",
   "name": "python",
   "nbconvert_exporter": "python",
   "pygments_lexer": "ipython2",
   "version": "2.7.12"
  }
 },
 "nbformat": 4,
 "nbformat_minor": 0
}
