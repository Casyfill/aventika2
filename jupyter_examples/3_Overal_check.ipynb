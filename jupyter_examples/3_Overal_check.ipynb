{
 "cells": [
  {
   "cell_type": "code",
   "execution_count": 1,
   "metadata": {
    "collapsed": true
   },
   "outputs": [],
   "source": [
    "import pandas as pd"
   ]
  },
  {
   "cell_type": "code",
   "execution_count": 2,
   "metadata": {
    "collapsed": false
   },
   "outputs": [],
   "source": [
    "import geopandas as gp\n",
    "from datetime import datetime\n",
    "import json\n",
    "from code.iteration import iterate, iteration, update_data\n",
    "from code.misc.logger import getLogger\n",
    "# from code.misc.preparation import prepare\n",
    "from code.main import data_preload, getSettings\n",
    "from code.misc import *\n",
    "import sys\n",
    "__appname__ = \"AVENTIKA_PRIORITY\"\n",
    "__author__ = \"Phipipp Kats (casyfill)\"\n",
    "__version__ = \"0.9.7.01 testing\"\n",
    "\n",
    "LIMIT = None  # manual execution bound\n",
    "\n"
   ]
  },
  {
   "cell_type": "code",
   "execution_count": 3,
   "metadata": {
    "collapsed": false
   },
   "outputs": [],
   "source": [
    "settings = getSettings()\n",
    "start = datetime.now()  # start of the calculations\n",
    "settings['limit'] = LIMIT\n",
    "settings['logger'] = getLogger()"
   ]
  },
  {
   "cell_type": "code",
   "execution_count": 4,
   "metadata": {
    "collapsed": false
   },
   "outputs": [
    {
     "name": "stderr",
     "output_type": "stream",
     "text": [
      "2016-12-26 22:40:45,900 - code.misc.logger - INFO - loaded 5 POIs from ../data/test/refined/poi.geojson\n",
      "2016-12-26 22:40:45,964 - code.misc.logger - INFO - loaded 6 BUFFs from ../data/test/refined/buffers.geojson\n",
      "2016-12-26 22:40:45,984 - code.misc.logger - INFO - loaded 35 REGIONSs from ../data/test/refined/regions.geojson\n"
     ]
    }
   ],
   "source": [
    "poi, buff, reg = data_preload(settings)"
   ]
  },
  {
   "cell_type": "markdown",
   "metadata": {},
   "source": [
    "## Iteration "
   ]
  },
  {
   "cell_type": "code",
   "execution_count": 5,
   "metadata": {
    "collapsed": false
   },
   "outputs": [
    {
     "name": "stderr",
     "output_type": "stream",
     "text": [
      "2016-12-26 22:40:47,662 - code.misc.logger - INFO - Started iteration\n"
     ]
    }
   ],
   "source": [
    "cntr = 1  # iteration counter\n",
    "\n",
    "    # buffers of newly adopted offices will be added here iteratively\n",
    "bound = settings['limit']\n",
    "logger = settings['logger']\n",
    "logger.info('Started iteration')\n"
   ]
  },
  {
   "cell_type": "code",
   "execution_count": 6,
   "metadata": {
    "collapsed": false
   },
   "outputs": [
    {
     "name": "stderr",
     "output_type": "stream",
     "text": [
      "2016-12-26 22:40:48,206 - code.misc.logger - INFO -    Pool:2 workers\n",
      "2016-12-26 22:40:48,377 - code.misc.logger - INFO - Priority 1: bank office 3, score: 4481.94655969\n"
     ]
    },
    {
     "name": "stdout",
     "output_type": "stream",
     "text": [
      "result:             score\n",
      "office_id        \n",
      "1          2280.0\n",
      "2          1520.0\n",
      "3          3040.0                  score\n",
      "office_id             \n",
      "1          1308.472733\n",
      "2          2335.626436\n",
      "3          1441.946560                  score\n",
      "office_id             \n",
      "1          3588.472733\n",
      "2          3855.626436\n",
      "3          4481.946560\n"
     ]
    }
   ],
   "source": [
    "# logger.info(log_pois_string.format(i=cntr, n=len(poi)))\n",
    "\n",
    "bid, score, reg_score, f_pois, s_pois = iteration(cntr, buff, poi, reg, settings)\n"
   ]
  },
  {
   "cell_type": "code",
   "execution_count": 7,
   "metadata": {
    "collapsed": true
   },
   "outputs": [],
   "source": [
    "from code.misc.poi import *"
   ]
  },
  {
   "cell_type": "code",
   "execution_count": 8,
   "metadata": {
    "collapsed": false
   },
   "outputs": [],
   "source": [
    "p = getPOI(buff, poi, settings)"
   ]
  },
  {
   "cell_type": "code",
   "execution_count": 9,
   "metadata": {
    "collapsed": false
   },
   "outputs": [],
   "source": [
    "p = p.groupby('office_id').agg({'score': 'sum'})"
   ]
  },
  {
   "cell_type": "code",
   "execution_count": 10,
   "metadata": {
    "collapsed": true
   },
   "outputs": [],
   "source": [
    "r = getReg_overlayed(buff, reg, settings)"
   ]
  },
  {
   "cell_type": "code",
   "execution_count": 11,
   "metadata": {
    "collapsed": false
   },
   "outputs": [],
   "source": [
    "result = p + r"
   ]
  },
  {
   "cell_type": "code",
   "execution_count": 12,
   "metadata": {
    "collapsed": false
   },
   "outputs": [
    {
     "data": {
      "text/html": [
       "<div>\n",
       "<table border=\"1\" class=\"dataframe\">\n",
       "  <thead>\n",
       "    <tr style=\"text-align: right;\">\n",
       "      <th></th>\n",
       "      <th>score</th>\n",
       "    </tr>\n",
       "    <tr>\n",
       "      <th>office_id</th>\n",
       "      <th></th>\n",
       "    </tr>\n",
       "  </thead>\n",
       "  <tbody>\n",
       "    <tr>\n",
       "      <th>1</th>\n",
       "      <td>3908.472733</td>\n",
       "    </tr>\n",
       "    <tr>\n",
       "      <th>2</th>\n",
       "      <td>4235.626436</td>\n",
       "    </tr>\n",
       "    <tr>\n",
       "      <th>3</th>\n",
       "      <td>5241.946560</td>\n",
       "    </tr>\n",
       "  </tbody>\n",
       "</table>\n",
       "</div>"
      ],
      "text/plain": [
       "                 score\n",
       "office_id             \n",
       "1          3908.472733\n",
       "2          4235.626436\n",
       "3          5241.946560"
      ]
     },
     "execution_count": 12,
     "metadata": {},
     "output_type": "execute_result"
    }
   ],
   "source": [
    "result"
   ]
  },
  {
   "cell_type": "code",
   "execution_count": 13,
   "metadata": {
    "collapsed": false
   },
   "outputs": [
    {
     "data": {
      "text/html": [
       "<div>\n",
       "<table border=\"1\" class=\"dataframe\">\n",
       "  <thead>\n",
       "    <tr style=\"text-align: right;\">\n",
       "      <th></th>\n",
       "      <th>score</th>\n",
       "    </tr>\n",
       "    <tr>\n",
       "      <th>office_id</th>\n",
       "      <th></th>\n",
       "    </tr>\n",
       "  </thead>\n",
       "  <tbody>\n",
       "    <tr>\n",
       "      <th>1</th>\n",
       "      <td>1308.472733</td>\n",
       "    </tr>\n",
       "    <tr>\n",
       "      <th>2</th>\n",
       "      <td>2335.626436</td>\n",
       "    </tr>\n",
       "    <tr>\n",
       "      <th>3</th>\n",
       "      <td>1441.946560</td>\n",
       "    </tr>\n",
       "  </tbody>\n",
       "</table>\n",
       "</div>"
      ],
      "text/plain": [
       "                 score\n",
       "office_id             \n",
       "1          1308.472733\n",
       "2          2335.626436\n",
       "3          1441.946560"
      ]
     },
     "execution_count": 13,
     "metadata": {},
     "output_type": "execute_result"
    }
   ],
   "source": [
    "r"
   ]
  },
  {
   "cell_type": "markdown",
   "metadata": {},
   "source": [
    "## Iteration"
   ]
  },
  {
   "cell_type": "code",
   "execution_count": 14,
   "metadata": {
    "collapsed": true
   },
   "outputs": [],
   "source": [
    "cntr = 1  # iteration counter"
   ]
  },
  {
   "cell_type": "code",
   "execution_count": 15,
   "metadata": {
    "collapsed": false
   },
   "outputs": [
    {
     "name": "stderr",
     "output_type": "stream",
     "text": [
      "2016-12-26 22:40:55,024 - code.misc.logger - INFO - Priority 1: bank office 3, score: 4481.94655969\n"
     ]
    },
    {
     "name": "stdout",
     "output_type": "stream",
     "text": [
      "result:             score\n",
      "office_id        \n",
      "1          2280.0\n",
      "2          1520.0\n",
      "3          3040.0                  score\n",
      "office_id             \n",
      "1          1308.472733\n",
      "2          2335.626436\n",
      "3          1441.946560                  score\n",
      "office_id             \n",
      "1          3588.472733\n",
      "2          3855.626436\n",
      "3          4481.946560\n"
     ]
    }
   ],
   "source": [
    "bid, score, reg_score, f_pois, s_pois = iteration(cntr, buff, poi,\n",
    "                                                          reg, settings)\n"
   ]
  },
  {
   "cell_type": "code",
   "execution_count": 16,
   "metadata": {
    "collapsed": false
   },
   "outputs": [],
   "source": [
    "buff, poi = update_data(buff, poi, bid, s_pois)\n",
    "cntr += 1"
   ]
  },
  {
   "cell_type": "code",
   "execution_count": 17,
   "metadata": {
    "collapsed": false
   },
   "outputs": [
    {
     "name": "stderr",
     "output_type": "stream",
     "text": [
      "2016-12-26 22:41:03,423 - code.misc.logger - INFO - Priority 2: bank office 1, score: 2553.44381969\n"
     ]
    },
    {
     "name": "stdout",
     "output_type": "stream",
     "text": [
      "result:             score\n",
      "office_id        \n",
      "1          1200.0                  score\n",
      "office_id             \n",
      "1          1353.443820\n",
      "2          1901.441309                  score\n",
      "office_id             \n",
      "1          2553.443820\n",
      "2          1901.441309\n"
     ]
    }
   ],
   "source": [
    "bid, score, reg_score, f_pois, s_pois = iteration(cntr, buff, poi,\n",
    "                                                          reg, settings)\n"
   ]
  },
  {
   "cell_type": "code",
   "execution_count": 18,
   "metadata": {
    "collapsed": true
   },
   "outputs": [],
   "source": [
    "buff, poi = update_data(buff, poi, bid, s_pois)\n",
    "cntr += 1"
   ]
  },
  {
   "cell_type": "code",
   "execution_count": 19,
   "metadata": {
    "collapsed": false
   },
   "outputs": [
    {
     "name": "stderr",
     "output_type": "stream",
     "text": [
      "2016-12-26 22:41:10,453 - code.misc.logger - INFO - no poi score\n",
      "2016-12-26 22:41:10,461 - code.misc.logger - INFO - Priority 3: bank office 2, score: 1846.18145847\n"
     ]
    },
    {
     "name": "stdout",
     "output_type": "stream",
     "text": [
      "result: Empty DataFrame\n",
      "Columns: [score]\n",
      "Index: []                  score\n",
      "office_id             \n",
      "2          1846.181458                  score\n",
      "office_id             \n",
      "2          1846.181458\n"
     ]
    }
   ],
   "source": [
    "bid, score, reg_score, f_pois, s_pois = iteration(cntr, buff, poi,\n",
    "                                                          reg, settings)\n"
   ]
  },
  {
   "cell_type": "code",
   "execution_count": 20,
   "metadata": {
    "collapsed": false
   },
   "outputs": [
    {
     "data": {
      "text/plain": [
       "2"
      ]
     },
     "execution_count": 20,
     "metadata": {},
     "output_type": "execute_result"
    }
   ],
   "source": [
    "bid"
   ]
  },
  {
   "cell_type": "code",
   "execution_count": 22,
   "metadata": {
    "collapsed": false
   },
   "outputs": [
    {
     "data": {
      "text/html": [
       "<div>\n",
       "<table border=\"1\" class=\"dataframe\">\n",
       "  <thead>\n",
       "    <tr style=\"text-align: right;\">\n",
       "      <th></th>\n",
       "      <th></th>\n",
       "      <th>geometry</th>\n",
       "      <th>id</th>\n",
       "      <th>priority</th>\n",
       "    </tr>\n",
       "    <tr>\n",
       "      <th>type</th>\n",
       "      <th>office_id</th>\n",
       "      <th></th>\n",
       "      <th></th>\n",
       "      <th></th>\n",
       "    </tr>\n",
       "  </thead>\n",
       "  <tbody>\n",
       "    <tr>\n",
       "      <th>foot</th>\n",
       "      <th>2</th>\n",
       "      <td>(POLYGON ((324708.9411055354 6176770.77344083,...</td>\n",
       "      <td>1</td>\n",
       "      <td>None</td>\n",
       "    </tr>\n",
       "    <tr>\n",
       "      <th>foot_to_step</th>\n",
       "      <th>2</th>\n",
       "      <td>POLYGON ((323845.9738945682 6176616.462692766,...</td>\n",
       "      <td>1</td>\n",
       "      <td>None</td>\n",
       "    </tr>\n",
       "    <tr>\n",
       "      <th>stepless</th>\n",
       "      <th>2</th>\n",
       "      <td>POLYGON ((324332.0519752681 6176785.962527643,...</td>\n",
       "      <td>1</td>\n",
       "      <td>None</td>\n",
       "    </tr>\n",
       "  </tbody>\n",
       "</table>\n",
       "</div>"
      ],
      "text/plain": [
       "                                                                 geometry id  \\\n",
       "type         office_id                                                         \n",
       "foot         2          (POLYGON ((324708.9411055354 6176770.77344083,...  1   \n",
       "foot_to_step 2          POLYGON ((323845.9738945682 6176616.462692766,...  1   \n",
       "stepless     2          POLYGON ((324332.0519752681 6176785.962527643,...  1   \n",
       "\n",
       "                       priority  \n",
       "type         office_id           \n",
       "foot         2             None  \n",
       "foot_to_step 2             None  \n",
       "stepless     2             None  "
      ]
     },
     "execution_count": 22,
     "metadata": {},
     "output_type": "execute_result"
    }
   ],
   "source": [
    "buff"
   ]
  },
  {
   "cell_type": "code",
   "execution_count": 24,
   "metadata": {
    "collapsed": true
   },
   "outputs": [],
   "source": [
    "bid = 2"
   ]
  },
  {
   "cell_type": "code",
   "execution_count": 23,
   "metadata": {
    "collapsed": false
   },
   "outputs": [],
   "source": [
    "# buff, poi = update_data(buff, poi, bid, s_pois)\n",
    "# cntr += 1"
   ]
  },
  {
   "cell_type": "code",
   "execution_count": 25,
   "metadata": {
    "collapsed": false
   },
   "outputs": [
    {
     "data": {
      "text/html": [
       "<div>\n",
       "<table border=\"1\" class=\"dataframe\">\n",
       "  <thead>\n",
       "    <tr style=\"text-align: right;\">\n",
       "      <th></th>\n",
       "      <th></th>\n",
       "      <th>geometry</th>\n",
       "      <th>id</th>\n",
       "      <th>priority</th>\n",
       "    </tr>\n",
       "    <tr>\n",
       "      <th>type</th>\n",
       "      <th>office_id</th>\n",
       "      <th></th>\n",
       "      <th></th>\n",
       "      <th></th>\n",
       "    </tr>\n",
       "  </thead>\n",
       "  <tbody>\n",
       "    <tr>\n",
       "      <th>foot</th>\n",
       "      <th>2</th>\n",
       "      <td>(POLYGON ((324708.9411055354 6176770.77344083,...</td>\n",
       "      <td>1</td>\n",
       "      <td>None</td>\n",
       "    </tr>\n",
       "    <tr>\n",
       "      <th>foot_to_step</th>\n",
       "      <th>2</th>\n",
       "      <td>POLYGON ((323845.9738945682 6176616.462692766,...</td>\n",
       "      <td>1</td>\n",
       "      <td>None</td>\n",
       "    </tr>\n",
       "    <tr>\n",
       "      <th>stepless</th>\n",
       "      <th>2</th>\n",
       "      <td>POLYGON ((324332.0519752681 6176785.962527643,...</td>\n",
       "      <td>1</td>\n",
       "      <td>None</td>\n",
       "    </tr>\n",
       "  </tbody>\n",
       "</table>\n",
       "</div>"
      ],
      "text/plain": [
       "                                                                 geometry id  \\\n",
       "type         office_id                                                         \n",
       "foot         2          (POLYGON ((324708.9411055354 6176770.77344083,...  1   \n",
       "foot_to_step 2          POLYGON ((323845.9738945682 6176616.462692766,...  1   \n",
       "stepless     2          POLYGON ((324332.0519752681 6176785.962527643,...  1   \n",
       "\n",
       "                       priority  \n",
       "type         office_id           \n",
       "foot         2             None  \n",
       "foot_to_step 2             None  \n",
       "stepless     2             None  "
      ]
     },
     "execution_count": 25,
     "metadata": {},
     "output_type": "execute_result"
    }
   ],
   "source": [
    "slct = buff.loc[idx[:, bid], :]  # selected Office\n",
    "slct"
   ]
  },
  {
   "cell_type": "code",
   "execution_count": 26,
   "metadata": {
    "collapsed": true
   },
   "outputs": [],
   "source": [
    "buff = buff[buff.index.get_level_values(1) != bid]"
   ]
  },
  {
   "cell_type": "code",
   "execution_count": 27,
   "metadata": {
    "collapsed": false
   },
   "outputs": [
    {
     "data": {
      "text/html": [
       "<div>\n",
       "<table border=\"1\" class=\"dataframe\">\n",
       "  <thead>\n",
       "    <tr style=\"text-align: right;\">\n",
       "      <th></th>\n",
       "      <th></th>\n",
       "      <th>geometry</th>\n",
       "      <th>id</th>\n",
       "      <th>priority</th>\n",
       "    </tr>\n",
       "    <tr>\n",
       "      <th>type</th>\n",
       "      <th>office_id</th>\n",
       "      <th></th>\n",
       "      <th></th>\n",
       "      <th></th>\n",
       "    </tr>\n",
       "  </thead>\n",
       "  <tbody>\n",
       "  </tbody>\n",
       "</table>\n",
       "</div>"
      ],
      "text/plain": [
       "Empty GeoDataFrame\n",
       "Columns: [geometry, id, priority]\n",
       "Index: []"
      ]
     },
     "execution_count": 27,
     "metadata": {},
     "output_type": "execute_result"
    }
   ],
   "source": [
    "buff"
   ]
  },
  {
   "cell_type": "code",
   "execution_count": 28,
   "metadata": {
    "collapsed": false
   },
   "outputs": [
    {
     "data": {
      "text/plain": [
       "True"
      ]
     },
     "execution_count": 28,
     "metadata": {},
     "output_type": "execute_result"
    }
   ],
   "source": [
    "buff.empty"
   ]
  },
  {
   "cell_type": "code",
   "execution_count": null,
   "metadata": {
    "collapsed": true
   },
   "outputs": [],
   "source": []
  }
 ],
 "metadata": {
  "kernelspec": {
   "display_name": "Python 2",
   "language": "python",
   "name": "python2"
  },
  "language_info": {
   "codemirror_mode": {
    "name": "ipython",
    "version": 2
   },
   "file_extension": ".py",
   "mimetype": "text/x-python",
   "name": "python",
   "nbconvert_exporter": "python",
   "pygments_lexer": "ipython2",
   "version": "2.7.12"
  }
 },
 "nbformat": 4,
 "nbformat_minor": 0
}
