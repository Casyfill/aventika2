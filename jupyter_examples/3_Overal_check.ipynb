{
 "cells": [
  {
   "cell_type": "code",
   "execution_count": 1,
   "metadata": {
    "collapsed": true
   },
   "outputs": [],
   "source": [
    "import pandas as pd"
   ]
  },
  {
   "cell_type": "code",
   "execution_count": 2,
   "metadata": {
    "collapsed": false
   },
   "outputs": [],
   "source": [
    "import geopandas as gp\n",
    "from datetime import datetime\n",
    "import json\n",
    "from code.iteration import iterate, iteration, update_data\n",
    "from code.misc.logger import getLogger\n",
    "# from code.misc.preparation import prepare\n",
    "from code.main import data_preload, getSettings\n",
    "from code.misc import *\n",
    "import sys\n",
    "__appname__ = \"AVENTIKA_PRIORITY\"\n",
    "__author__ = \"Phipipp Kats (casyfill)\"\n",
    "__version__ = \"0.9.7.01 testing\"\n",
    "\n",
    "LIMIT = None  # manual execution bound\n",
    "\n"
   ]
  },
  {
   "cell_type": "code",
   "execution_count": 3,
   "metadata": {
    "collapsed": false
   },
   "outputs": [],
   "source": [
    "settings = getSettings()\n",
    "start = datetime.now()  # start of the calculations\n",
    "settings['limit'] = LIMIT\n",
    "settings['logger'] = getLogger()"
   ]
  },
  {
   "cell_type": "code",
   "execution_count": 4,
   "metadata": {
    "collapsed": false
   },
   "outputs": [
    {
     "name": "stderr",
     "output_type": "stream",
     "text": [
      "2016-12-27 12:07:00,640 - code.misc.logger - INFO - loaded 5 POIs from ../data/test/refined/poi.geojson\n",
      "2016-12-27 12:07:00,704 - code.misc.logger - INFO - loaded 6 BUFFs from ../data/test/refined/buffers.geojson\n",
      "2016-12-27 12:07:00,739 - code.misc.logger - INFO - loaded 35 REGIONSs from ../data/test/refined/regions.geojson\n"
     ]
    }
   ],
   "source": [
    "poi, buff, reg = data_preload(settings)"
   ]
  },
  {
   "cell_type": "markdown",
   "metadata": {},
   "source": [
    "## Iteration "
   ]
  },
  {
   "cell_type": "code",
   "execution_count": 5,
   "metadata": {
    "collapsed": false
   },
   "outputs": [
    {
     "name": "stderr",
     "output_type": "stream",
     "text": [
      "2016-12-27 11:38:59,532 - code.misc.logger - INFO - Started iteration\n"
     ]
    }
   ],
   "source": [
    "cntr = 1  # iteration counter\n",
    "\n",
    "    # buffers of newly adopted offices will be added here iteratively\n",
    "bound = settings['limit']\n",
    "logger = settings['logger']\n",
    "logger.info('Started iteration')\n"
   ]
  },
  {
   "cell_type": "markdown",
   "metadata": {},
   "source": [
    "## Iteration"
   ]
  },
  {
   "cell_type": "code",
   "execution_count": 6,
   "metadata": {
    "collapsed": true
   },
   "outputs": [],
   "source": [
    "cntr = 1  # iteration counter"
   ]
  },
  {
   "cell_type": "code",
   "execution_count": 7,
   "metadata": {
    "collapsed": false
   },
   "outputs": [
    {
     "name": "stderr",
     "output_type": "stream",
     "text": [
      "2016-12-27 11:39:11,946 - code.misc.logger - INFO -    Pool:2 workers\n",
      "2016-12-27 11:39:12,050 - code.misc.logger - INFO - Priority 1: bank office 3, score: 4481.94655969\n"
     ]
    },
    {
     "name": "stdout",
     "output_type": "stream",
     "text": [
      "result:             score\n",
      "office_id        \n",
      "1          2280.0\n",
      "2          1520.0\n",
      "3          3040.0                  score\n",
      "office_id             \n",
      "1          1308.472733\n",
      "2          2335.626436\n",
      "3          1441.946560                  score\n",
      "office_id             \n",
      "1          3588.472733\n",
      "2          3855.626436\n",
      "3          4481.946560\n"
     ]
    }
   ],
   "source": [
    "bid, score, reg_score, f_pois, s_pois = iteration(cntr, buff, poi,\n",
    "                                                          reg, settings)\n"
   ]
  },
  {
   "cell_type": "code",
   "execution_count": 8,
   "metadata": {
    "collapsed": false
   },
   "outputs": [
    {
     "name": "stdout",
     "output_type": "stream",
     "text": [
      "defined foot-too-step\n"
     ]
    }
   ],
   "source": [
    "buff, poi = update_data(buff, poi, bid, s_pois)\n",
    "cntr += 1"
   ]
  },
  {
   "cell_type": "code",
   "execution_count": 9,
   "metadata": {
    "collapsed": false
   },
   "outputs": [
    {
     "name": "stderr",
     "output_type": "stream",
     "text": [
      "2016-12-27 11:39:15,811 - code.misc.logger - INFO - Priority 2: bank office 1, score: 2553.44381969\n"
     ]
    },
    {
     "name": "stdout",
     "output_type": "stream",
     "text": [
      "result:             score\n",
      "office_id        \n",
      "1          1200.0                  score\n",
      "office_id             \n",
      "1          1353.443820\n",
      "2          1901.441309                  score\n",
      "office_id             \n",
      "1          2553.443820\n",
      "2          1901.441309\n"
     ]
    }
   ],
   "source": [
    "bid, score, reg_score, f_pois, s_pois = iteration(cntr, buff, poi,\n",
    "                                                          reg, settings)\n"
   ]
  },
  {
   "cell_type": "code",
   "execution_count": 10,
   "metadata": {
    "collapsed": false
   },
   "outputs": [
    {
     "name": "stdout",
     "output_type": "stream",
     "text": [
      "no foot-too-step\n"
     ]
    }
   ],
   "source": [
    "buff, poi = update_data(buff, poi, bid, s_pois)\n",
    "cntr += 1"
   ]
  },
  {
   "cell_type": "code",
   "execution_count": 11,
   "metadata": {
    "collapsed": false
   },
   "outputs": [
    {
     "name": "stderr",
     "output_type": "stream",
     "text": [
      "2016-12-27 11:39:25,199 - code.misc.logger - INFO - no poi score\n",
      "2016-12-27 11:39:25,209 - code.misc.logger - INFO - Priority 3: bank office 2, score: 1846.18145847\n"
     ]
    },
    {
     "name": "stdout",
     "output_type": "stream",
     "text": [
      "result: Empty DataFrame\n",
      "Columns: [score]\n",
      "Index: []                  score\n",
      "office_id             \n",
      "2          1846.181458                  score\n",
      "office_id             \n",
      "2          1846.181458\n"
     ]
    }
   ],
   "source": [
    "bid, score, reg_score, f_pois, s_pois = iteration(cntr, buff, poi,\n",
    "                                                          reg, settings)\n"
   ]
  },
  {
   "cell_type": "code",
   "execution_count": null,
   "metadata": {
    "collapsed": false
   },
   "outputs": [],
   "source": [
    "bid"
   ]
  },
  {
   "cell_type": "code",
   "execution_count": null,
   "metadata": {
    "collapsed": false
   },
   "outputs": [],
   "source": [
    "buff"
   ]
  },
  {
   "cell_type": "code",
   "execution_count": null,
   "metadata": {
    "collapsed": true
   },
   "outputs": [],
   "source": [
    "bid = 2"
   ]
  },
  {
   "cell_type": "code",
   "execution_count": null,
   "metadata": {
    "collapsed": false
   },
   "outputs": [],
   "source": [
    "# buff, poi = update_data(buff, poi, bid, s_pois)\n",
    "# cntr += 1"
   ]
  },
  {
   "cell_type": "code",
   "execution_count": null,
   "metadata": {
    "collapsed": false
   },
   "outputs": [],
   "source": [
    "slct = buff.loc[idx[:, bid], :]  # selected Office\n",
    "slct"
   ]
  },
  {
   "cell_type": "code",
   "execution_count": null,
   "metadata": {
    "collapsed": true
   },
   "outputs": [],
   "source": [
    "buff = buff[buff.index.get_level_values(1) != bid]"
   ]
  },
  {
   "cell_type": "code",
   "execution_count": null,
   "metadata": {
    "collapsed": false
   },
   "outputs": [],
   "source": [
    "buff"
   ]
  },
  {
   "cell_type": "code",
   "execution_count": null,
   "metadata": {
    "collapsed": false
   },
   "outputs": [],
   "source": [
    "buff.empty"
   ]
  },
  {
   "cell_type": "code",
   "execution_count": null,
   "metadata": {
    "collapsed": true
   },
   "outputs": [],
   "source": []
  }
 ],
 "metadata": {
  "kernelspec": {
   "display_name": "Python 2",
   "language": "python",
   "name": "python2"
  },
  "language_info": {
   "codemirror_mode": {
    "name": "ipython",
    "version": 2
   },
   "file_extension": ".py",
   "mimetype": "text/x-python",
   "name": "python",
   "nbconvert_exporter": "python",
   "pygments_lexer": "ipython2",
   "version": "2.7.12"
  }
 },
 "nbformat": 4,
 "nbformat_minor": 0
}
