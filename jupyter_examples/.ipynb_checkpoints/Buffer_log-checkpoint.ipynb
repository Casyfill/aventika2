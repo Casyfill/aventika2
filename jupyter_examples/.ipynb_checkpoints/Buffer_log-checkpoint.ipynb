{
 "cells": [
  {
   "cell_type": "code",
   "execution_count": 8,
   "metadata": {
    "collapsed": true
   },
   "outputs": [],
   "source": [
    "import pandas as pd"
   ]
  },
  {
   "cell_type": "code",
   "execution_count": 9,
   "metadata": {
    "collapsed": true
   },
   "outputs": [],
   "source": [
    "import geopandas as gp"
   ]
  },
  {
   "cell_type": "code",
   "execution_count": 10,
   "metadata": {
    "collapsed": true
   },
   "outputs": [],
   "source": [
    "from code.misc.new_buffers import update_buff"
   ]
  },
  {
   "cell_type": "code",
   "execution_count": 11,
   "metadata": {
    "collapsed": true
   },
   "outputs": [],
   "source": [
    "orgbuff = gp.read_file('../data/real/refined/buffers.geojson').set_index('')"
   ]
  },
  {
   "cell_type": "code",
   "execution_count": 12,
   "metadata": {
    "collapsed": false
   },
   "outputs": [
    {
     "data": {
      "text/html": [
       "<div>\n",
       "<table border=\"1\" class=\"dataframe\">\n",
       "  <thead>\n",
       "    <tr style=\"text-align: right;\">\n",
       "      <th></th>\n",
       "      <th>geometry</th>\n",
       "      <th>id</th>\n",
       "      <th>office_id</th>\n",
       "      <th>priority</th>\n",
       "      <th>type</th>\n",
       "    </tr>\n",
       "  </thead>\n",
       "  <tbody>\n",
       "    <tr>\n",
       "      <th>0</th>\n",
       "      <td>POLYGON ((37.207659 55.99689, 37.2079215790266...</td>\n",
       "      <td>0</td>\n",
       "      <td>2378</td>\n",
       "      <td>None</td>\n",
       "      <td>foot</td>\n",
       "    </tr>\n",
       "    <tr>\n",
       "      <th>1</th>\n",
       "      <td>POLYGON ((37.210838 55.99686, 37.2111765950794...</td>\n",
       "      <td>1</td>\n",
       "      <td>2378</td>\n",
       "      <td>None</td>\n",
       "      <td>stepless</td>\n",
       "    </tr>\n",
       "    <tr>\n",
       "      <th>2</th>\n",
       "      <td>POLYGON ((37.145757 55.976658, 37.145594535204...</td>\n",
       "      <td>2</td>\n",
       "      <td>2387</td>\n",
       "      <td>None</td>\n",
       "      <td>foot</td>\n",
       "    </tr>\n",
       "  </tbody>\n",
       "</table>\n",
       "</div>"
      ],
      "text/plain": [
       "                                            geometry id  office_id priority  \\\n",
       "0  POLYGON ((37.207659 55.99689, 37.2079215790266...  0       2378     None   \n",
       "1  POLYGON ((37.210838 55.99686, 37.2111765950794...  1       2378     None   \n",
       "2  POLYGON ((37.145757 55.976658, 37.145594535204...  2       2387     None   \n",
       "\n",
       "       type  \n",
       "0      foot  \n",
       "1  stepless  \n",
       "2      foot  "
      ]
     },
     "execution_count": 12,
     "metadata": {},
     "output_type": "execute_result"
    }
   ],
   "source": [
    "orgbuff.head(3)"
   ]
  },
  {
   "cell_type": "code",
   "execution_count": 36,
   "metadata": {
    "collapsed": false
   },
   "outputs": [
    {
     "data": {
      "text/html": [
       "<div>\n",
       "<table border=\"1\" class=\"dataframe\">\n",
       "  <thead>\n",
       "    <tr style=\"text-align: right;\">\n",
       "      <th></th>\n",
       "      <th></th>\n",
       "      <th>geometry</th>\n",
       "      <th>id</th>\n",
       "      <th>priority</th>\n",
       "    </tr>\n",
       "    <tr>\n",
       "      <th>type</th>\n",
       "      <th>office_id</th>\n",
       "      <th></th>\n",
       "      <th></th>\n",
       "      <th></th>\n",
       "    </tr>\n",
       "  </thead>\n",
       "  <tbody>\n",
       "    <tr>\n",
       "      <th rowspan=\"3\" valign=\"top\">foot</th>\n",
       "      <th>1</th>\n",
       "      <td>POLYGON ((417146.791324592 6181035.453608866, ...</td>\n",
       "      <td>52</td>\n",
       "      <td>None</td>\n",
       "    </tr>\n",
       "    <tr>\n",
       "      <th>2</th>\n",
       "      <td>POLYGON ((422274.1503604013 6167477.964874175,...</td>\n",
       "      <td>54</td>\n",
       "      <td>None</td>\n",
       "    </tr>\n",
       "    <tr>\n",
       "      <th>3</th>\n",
       "      <td>POLYGON ((407207.9017504905 6186565.982379913,...</td>\n",
       "      <td>56</td>\n",
       "      <td>None</td>\n",
       "    </tr>\n",
       "  </tbody>\n",
       "</table>\n",
       "</div>"
      ],
      "text/plain": [
       "                                                         geometry  id priority\n",
       "type office_id                                                                \n",
       "foot 1          POLYGON ((417146.791324592 6181035.453608866, ...  52     None\n",
       "     2          POLYGON ((422274.1503604013 6167477.964874175,...  54     None\n",
       "     3          POLYGON ((407207.9017504905 6186565.982379913,...  56     None"
      ]
     },
     "execution_count": 36,
     "metadata": {},
     "output_type": "execute_result"
    }
   ],
   "source": [
    "buff = gp.read_file('../code/buff_log.geojson').set_index(['type', 'office_id'])\n",
    "buff.head(3)"
   ]
  },
  {
   "cell_type": "code",
   "execution_count": 20,
   "metadata": {
    "collapsed": true
   },
   "outputs": [],
   "source": [
    "idx = pd.IndexSlice"
   ]
  },
  {
   "cell_type": "code",
   "execution_count": 23,
   "metadata": {
    "collapsed": true
   },
   "outputs": [],
   "source": [
    "bid = 769"
   ]
  },
  {
   "cell_type": "code",
   "execution_count": 24,
   "metadata": {
    "collapsed": false
   },
   "outputs": [],
   "source": [
    "slctd_foot = buff.loc[idx['foot', bid], 'geometry']\n",
    "slctd_step = buff.loc[idx['stepless', bid], 'geometry']\n",
    "buff = buff[buff.index.get_level_values(1) != bid]"
   ]
  },
  {
   "cell_type": "code",
   "execution_count": 25,
   "metadata": {
    "collapsed": false
   },
   "outputs": [
    {
     "data": {
      "text/plain": [
       "type      office_id\n",
       "stepless  769          POLYGON ((402878.3518886387 6182768.705627556,...\n",
       "Name: geometry, dtype: object"
      ]
     },
     "execution_count": 25,
     "metadata": {},
     "output_type": "execute_result"
    }
   ],
   "source": [
    "slctd_step"
   ]
  },
  {
   "cell_type": "code",
   "execution_count": 29,
   "metadata": {
    "collapsed": false
   },
   "outputs": [
    {
     "data": {
      "text/plain": [
       "(83,)"
      ]
     },
     "execution_count": 29,
     "metadata": {},
     "output_type": "execute_result"
    }
   ],
   "source": [
    "buff.loc[idx['foot_to_step', :], 'geometry'].shape"
   ]
  },
  {
   "cell_type": "code",
   "execution_count": 38,
   "metadata": {
    "collapsed": false
   },
   "outputs": [],
   "source": [
    "def get_fc(buff, slctd_foot):\n",
    "    '''adds a third type of buffer\n",
    "    one where foot distance is already covered,\n",
    "    but stepless is not. pois and regions here\n",
    "    will add a score=difference between foot and stepless\n",
    "\n",
    "    Args:\n",
    "        buff: current buffs\n",
    "        slctd_step: stepless buffer for selected office\n",
    "    Returns:\n",
    "        buff: buff with new buffers adder\n",
    "    '''\n",
    "    fs = buff.loc[idx['stepless', :], :].copy()\n",
    "\n",
    "    fs.loc[:, 'geometry'] = fs.loc[:, 'geometry'].intersection(slctd_foot)\n",
    "    fs.index = pd.MultiIndex.from_tuples(\n",
    "        [('foot_to_step', i) for _, i in fs.index.tolist()])\n",
    "    fs = fs[~fs['geometry'].is_empty]\n",
    "\n",
    "    return pd.concat([buff, fs]).sort_index()\n",
    "\n",
    "def update_buff(buff, bid):\n",
    "    '''update buff by removing\n",
    "    and substracting\n",
    "    buffers for chosen office\n",
    "\n",
    "    Args:\n",
    "        buff: buffers\n",
    "        bid(int): id of chosen office\n",
    "    '''\n",
    "\n",
    "    slctd_foot = buff.loc[idx['foot', bid], 'geometry']\n",
    "    slctd_step = buff.loc[idx['stepless', bid], 'geometry']\n",
    "    buff = buff[buff.index.get_level_values(1) != bid]\n",
    "\n",
    "    # normal reduction\n",
    "    if 'foot' in buff.index.get_level_values(0):\n",
    "        tmp = buff.loc[\n",
    "            idx['foot', :], 'geometry'].difference(slctd_foot).difference(slctd_step)\n",
    "\n",
    "        buff.loc[idx['foot', :], 'geometry'] = tmp[~tmp.is_empty]\n",
    "            \n",
    "\n",
    "    if 'stepless' in buff.index.get_level_values(0):\n",
    "        tmp =  buff.loc[ idx['stepless', :], 'geometry'].difference(slctd_step)\n",
    "        buff.loc[idx['stepless', :], 'geometry'] = tmp[~tmp.is_empty]\n",
    "    \n",
    "  \n",
    "    if 'foot_to_step' in buff.index.get_level_values(0):\n",
    "        tmp = buff.loc[\n",
    "            idx['foot_to_step', :], 'geometry'].difference(slctd_step)\n",
    "\n",
    "        buff.loc[idx['foot_to_step', :], 'geometry'] = tmp[~tmp.is_empty]\n",
    " \n",
    "    buff = buff[~buff['geometry'].is_empty]\n",
    "    buff2 = get_fc(buff, slctd_foot)\n",
    "\n",
    "    return buff2"
   ]
  },
  {
   "cell_type": "code",
   "execution_count": 39,
   "metadata": {
    "collapsed": false
   },
   "outputs": [],
   "source": [
    "b2 = update_buff(buff, 769)"
   ]
  },
  {
   "cell_type": "code",
   "execution_count": null,
   "metadata": {
    "collapsed": true
   },
   "outputs": [],
   "source": []
  }
 ],
 "metadata": {
  "anaconda-cloud": {},
  "kernelspec": {
   "display_name": "Python [conda root]",
   "language": "python",
   "name": "conda-root-py"
  },
  "language_info": {
   "codemirror_mode": {
    "name": "ipython",
    "version": 2
   },
   "file_extension": ".py",
   "mimetype": "text/x-python",
   "name": "python",
   "nbconvert_exporter": "python",
   "pygments_lexer": "ipython2",
   "version": "2.7.12"
  }
 },
 "nbformat": 4,
 "nbformat_minor": 1
}
