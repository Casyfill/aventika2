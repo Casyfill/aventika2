{
 "cells": [
  {
   "cell_type": "code",
   "execution_count": 1,
   "metadata": {
    "collapsed": false
   },
   "outputs": [
    {
     "name": "stderr",
     "output_type": "stream",
     "text": [
      "/Users/casy/anaconda/lib/python2.7/site-packages/matplotlib/font_manager.py:273: UserWarning: Matplotlib is building the font cache using fc-list. This may take a moment.\n",
      "  warnings.warn('Matplotlib is building the font cache using fc-list. This may take a moment.')\n"
     ]
    },
    {
     "name": "stdout",
     "output_type": "stream",
     "text": [
      "Populating the interactive namespace from numpy and matplotlib\n"
     ]
    }
   ],
   "source": [
    "%pylab inline\n",
    "import pylab as plt"
   ]
  },
  {
   "cell_type": "code",
   "execution_count": 2,
   "metadata": {
    "collapsed": true
   },
   "outputs": [],
   "source": [
    "import pandas as pd"
   ]
  },
  {
   "cell_type": "code",
   "execution_count": 3,
   "metadata": {
    "collapsed": false
   },
   "outputs": [],
   "source": [
    "import geopandas as gp\n",
    "from datetime import datetime\n",
    "import json\n",
    "from code.iteration import iterate, iteration, update_data\n",
    "from code.misc.logger import getLogger\n",
    "# from code.misc.preparation import prepare\n",
    "from code.main import data_preload, getSettings\n",
    "from code.misc import *\n",
    "import sys\n",
    "__appname__ = \"AVENTIKA_PRIORITY\"\n",
    "__author__ = \"Phipipp Kats (casyfill)\"\n",
    "__version__ = \"0.9.7.01 testing\"\n",
    "\n",
    "LIMIT = None  # manual execution bound\n",
    "\n",
    "from code.misc.poi import getPOI, adjustScore"
   ]
  },
  {
   "cell_type": "code",
   "execution_count": 4,
   "metadata": {
    "collapsed": false
   },
   "outputs": [],
   "source": [
    "settings = getSettings()\n",
    "start = datetime.now()  # start of the calculations\n",
    "settings['limit'] = LIMIT\n",
    "settings['logger'] = getLogger()"
   ]
  },
  {
   "cell_type": "code",
   "execution_count": 5,
   "metadata": {
    "collapsed": false
   },
   "outputs": [
    {
     "name": "stderr",
     "output_type": "stream",
     "text": [
      "2017-01-01 16:14:12,261 - root - INFO - loaded 5 POIs from /Users/casy/Dropbox/CUSP/project/1_FREELANCE/AVENTIKA_INVALIDY/aventika2/jupyter_examples/data/test/refined/poi.geojson\n",
      "2017-01-01 16:14:12,261 - root - INFO - loaded 5 POIs from /Users/casy/Dropbox/CUSP/project/1_FREELANCE/AVENTIKA_INVALIDY/aventika2/jupyter_examples/data/test/refined/poi.geojson\n",
      "2017-01-01 16:14:12,302 - root - INFO - loaded 4 BUFFs from /Users/casy/Dropbox/CUSP/project/1_FREELANCE/AVENTIKA_INVALIDY/aventika2/jupyter_examples/data/test/refined/buffers.geojson\n",
      "2017-01-01 16:14:12,302 - root - INFO - loaded 4 BUFFs from /Users/casy/Dropbox/CUSP/project/1_FREELANCE/AVENTIKA_INVALIDY/aventika2/jupyter_examples/data/test/refined/buffers.geojson\n",
      "2017-01-01 16:14:12,325 - root - INFO - loaded 25 REGIONSs from /Users/casy/Dropbox/CUSP/project/1_FREELANCE/AVENTIKA_INVALIDY/aventika2/jupyter_examples/data/test/refined/regions.geojson\n",
      "2017-01-01 16:14:12,325 - root - INFO - loaded 25 REGIONSs from /Users/casy/Dropbox/CUSP/project/1_FREELANCE/AVENTIKA_INVALIDY/aventika2/jupyter_examples/data/test/refined/regions.geojson\n"
     ]
    },
    {
     "name": "stdout",
     "output_type": "stream",
     "text": [
      "test_path\n"
     ]
    }
   ],
   "source": [
    "settings['bank_mode'] == 'office'\n",
    "poi, buff, reg = data_preload(settings, source='test_path')"
   ]
  },
  {
   "cell_type": "code",
   "execution_count": 6,
   "metadata": {
    "collapsed": false
   },
   "outputs": [
    {
     "data": {
      "text/html": [
       "<div>\n",
       "<table border=\"1\" class=\"dataframe\">\n",
       "  <thead>\n",
       "    <tr style=\"text-align: right;\">\n",
       "      <th></th>\n",
       "      <th>geometry</th>\n",
       "      <th>id</th>\n",
       "      <th>reg_id</th>\n",
       "      <th>score</th>\n",
       "      <th>fs</th>\n",
       "    </tr>\n",
       "  </thead>\n",
       "  <tbody>\n",
       "    <tr>\n",
       "      <th>0</th>\n",
       "      <td>POINT (323745.9021574553 6177818.541570255)</td>\n",
       "      <td>3</td>\n",
       "      <td>3_3</td>\n",
       "      <td>50.875710</td>\n",
       "      <td>False</td>\n",
       "    </tr>\n",
       "    <tr>\n",
       "      <th>1</th>\n",
       "      <td>POINT (323558.7811208967 6177687.380677571)</td>\n",
       "      <td>6</td>\n",
       "      <td>3_6</td>\n",
       "      <td>64.641218</td>\n",
       "      <td>False</td>\n",
       "    </tr>\n",
       "    <tr>\n",
       "      <th>2</th>\n",
       "      <td>POINT (323600.7779435613 6177220.765399668)</td>\n",
       "      <td>10</td>\n",
       "      <td>1_10</td>\n",
       "      <td>27.991392</td>\n",
       "      <td>False</td>\n",
       "    </tr>\n",
       "    <tr>\n",
       "      <th>3</th>\n",
       "      <td>POINT (323657.7310207308 6177273.244160438)</td>\n",
       "      <td>12</td>\n",
       "      <td>1_12</td>\n",
       "      <td>12.613793</td>\n",
       "      <td>False</td>\n",
       "    </tr>\n",
       "    <tr>\n",
       "      <th>4</th>\n",
       "      <td>POINT (323760.9667395529 6176871.357015704)</td>\n",
       "      <td>16</td>\n",
       "      <td>1_16</td>\n",
       "      <td>284.388684</td>\n",
       "      <td>False</td>\n",
       "    </tr>\n",
       "    <tr>\n",
       "      <th>5</th>\n",
       "      <td>POINT (324400.1926543666 6176593.427801835)</td>\n",
       "      <td>18</td>\n",
       "      <td>1_18</td>\n",
       "      <td>970.769614</td>\n",
       "      <td>False</td>\n",
       "    </tr>\n",
       "    <tr>\n",
       "      <th>6</th>\n",
       "      <td>POINT (323645.8711592088 6176894.489426402)</td>\n",
       "      <td>23</td>\n",
       "      <td>1_23</td>\n",
       "      <td>62.799829</td>\n",
       "      <td>False</td>\n",
       "    </tr>\n",
       "    <tr>\n",
       "      <th>7</th>\n",
       "      <td>POINT (323384.1441280651 6177176.702200177)</td>\n",
       "      <td>28</td>\n",
       "      <td>2_28</td>\n",
       "      <td>53.261232</td>\n",
       "      <td>False</td>\n",
       "    </tr>\n",
       "    <tr>\n",
       "      <th>8</th>\n",
       "      <td>POINT (323525.8150233062 6177194.330935221)</td>\n",
       "      <td>29</td>\n",
       "      <td>2_29</td>\n",
       "      <td>9.679683</td>\n",
       "      <td>False</td>\n",
       "    </tr>\n",
       "    <tr>\n",
       "      <th>9</th>\n",
       "      <td>POINT (323530.1637935881 6176766.950891218)</td>\n",
       "      <td>31</td>\n",
       "      <td>2_31</td>\n",
       "      <td>77.748898</td>\n",
       "      <td>False</td>\n",
       "    </tr>\n",
       "  </tbody>\n",
       "</table>\n",
       "</div>"
      ],
      "text/plain": [
       "                                      geometry  id reg_id       score     fs\n",
       "0  POINT (323745.9021574553 6177818.541570255)   3    3_3   50.875710  False\n",
       "1  POINT (323558.7811208967 6177687.380677571)   6    3_6   64.641218  False\n",
       "2  POINT (323600.7779435613 6177220.765399668)  10   1_10   27.991392  False\n",
       "3  POINT (323657.7310207308 6177273.244160438)  12   1_12   12.613793  False\n",
       "4  POINT (323760.9667395529 6176871.357015704)  16   1_16  284.388684  False\n",
       "5  POINT (324400.1926543666 6176593.427801835)  18   1_18  970.769614  False\n",
       "6  POINT (323645.8711592088 6176894.489426402)  23   1_23   62.799829  False\n",
       "7  POINT (323384.1441280651 6177176.702200177)  28   2_28   53.261232  False\n",
       "8  POINT (323525.8150233062 6177194.330935221)  29   2_29    9.679683  False\n",
       "9  POINT (323530.1637935881 6176766.950891218)  31   2_31   77.748898  False"
      ]
     },
     "execution_count": 6,
     "metadata": {},
     "output_type": "execute_result"
    }
   ],
   "source": [
    "reg.head(10)"
   ]
  },
  {
   "cell_type": "markdown",
   "metadata": {},
   "source": [
    "## Iteration "
   ]
  },
  {
   "cell_type": "code",
   "execution_count": null,
   "metadata": {
    "collapsed": false
   },
   "outputs": [],
   "source": [
    "cntr = 1  # iteration counter\n",
    "\n",
    "    # buffers of newly adopted offices will be added here iteratively\n",
    "bound = settings['limit']\n",
    "logger = settings['logger']\n",
    "# logger.info('Started iteration')\n"
   ]
  },
  {
   "cell_type": "markdown",
   "metadata": {},
   "source": [
    "## Iteration"
   ]
  },
  {
   "cell_type": "code",
   "execution_count": 7,
   "metadata": {
    "collapsed": true
   },
   "outputs": [],
   "source": [
    "cntr = 1  # iteration counter"
   ]
  },
  {
   "cell_type": "code",
   "execution_count": 8,
   "metadata": {
    "collapsed": false
   },
   "outputs": [
    {
     "name": "stderr",
     "output_type": "stream",
     "text": [
      "2017-01-01 16:14:17,671 - root - INFO -    Pool:2 workers\n",
      "2017-01-01 16:14:17,671 - root - INFO -    Pool:2 workers\n",
      "2017-01-01 16:14:17,854 - root - INFO - Priority 1: bank office 1, score: 2608.5\n",
      "2017-01-01 16:14:17,854 - root - INFO - Priority 1: bank office 1, score: 2608.5\n"
     ]
    },
    {
     "ename": "ValueError",
     "evalue": "need more than 6 values to unpack",
     "output_type": "error",
     "traceback": [
      "\u001b[0;31m---------------------------------------------------------------------------\u001b[0m",
      "\u001b[0;31mValueError\u001b[0m                                Traceback (most recent call last)",
      "\u001b[0;32m<ipython-input-8-86e0bae9b8ed>\u001b[0m in \u001b[0;36m<module>\u001b[0;34m()\u001b[0m\n\u001b[0;32m----> 1\u001b[0;31m \u001b[0mbid\u001b[0m\u001b[0;34m,\u001b[0m \u001b[0mscore\u001b[0m\u001b[0;34m,\u001b[0m \u001b[0mreg_score\u001b[0m\u001b[0;34m,\u001b[0m \u001b[0mf_pois\u001b[0m\u001b[0;34m,\u001b[0m \u001b[0ms_pois\u001b[0m\u001b[0;34m,\u001b[0m \u001b[0mf_regs\u001b[0m\u001b[0;34m,\u001b[0m \u001b[0ms_regs\u001b[0m \u001b[0;34m=\u001b[0m \u001b[0miteration\u001b[0m\u001b[0;34m(\u001b[0m\u001b[0mcntr\u001b[0m\u001b[0;34m,\u001b[0m \u001b[0mbuff\u001b[0m\u001b[0;34m,\u001b[0m \u001b[0mpoi\u001b[0m\u001b[0;34m,\u001b[0m \u001b[0mreg\u001b[0m\u001b[0;34m,\u001b[0m \u001b[0msettings\u001b[0m\u001b[0;34m)\u001b[0m\u001b[0;34m\u001b[0m\u001b[0m\n\u001b[0m",
      "\u001b[0;31mValueError\u001b[0m: need more than 6 values to unpack"
     ]
    }
   ],
   "source": [
    "bid, score, reg_score, f_pois, s_pois, f_regs = iteration(cntr, buff, poi, reg, settings)\n"
   ]
  },
  {
   "cell_type": "code",
   "execution_count": null,
   "metadata": {
    "collapsed": false
   },
   "outputs": [],
   "source": [
    "reg_score"
   ]
  },
  {
   "cell_type": "code",
   "execution_count": null,
   "metadata": {
    "collapsed": false
   },
   "outputs": [],
   "source": [
    "buff, poi = update_data(buff, poi, bid, s_pois)\n",
    "cntr += 1"
   ]
  },
  {
   "cell_type": "code",
   "execution_count": null,
   "metadata": {
    "collapsed": false
   },
   "outputs": [],
   "source": [
    "bid, score, reg_score, f_pois, s_pois = iteration(cntr, buff, poi,\n",
    "                                                          reg, settings)\n"
   ]
  },
  {
   "cell_type": "code",
   "execution_count": null,
   "metadata": {
    "collapsed": false
   },
   "outputs": [],
   "source": [
    "buff, poi = update_data(buff, poi, bid, s_pois)\n",
    "cntr += 1"
   ]
  },
  {
   "cell_type": "code",
   "execution_count": null,
   "metadata": {
    "collapsed": false
   },
   "outputs": [],
   "source": [
    "bid, score, reg_score, f_pois, s_pois = iteration(cntr, buff, poi,\n",
    "                                                          reg, settings)\n"
   ]
  },
  {
   "cell_type": "code",
   "execution_count": null,
   "metadata": {
    "collapsed": false
   },
   "outputs": [],
   "source": [
    "bid"
   ]
  },
  {
   "cell_type": "code",
   "execution_count": null,
   "metadata": {
    "collapsed": false
   },
   "outputs": [],
   "source": [
    "buff"
   ]
  },
  {
   "cell_type": "code",
   "execution_count": null,
   "metadata": {
    "collapsed": true
   },
   "outputs": [],
   "source": [
    "bid = 2"
   ]
  },
  {
   "cell_type": "code",
   "execution_count": null,
   "metadata": {
    "collapsed": false
   },
   "outputs": [],
   "source": [
    "# buff, poi = update_data(buff, poi, bid, s_pois)\n",
    "# cntr += 1"
   ]
  },
  {
   "cell_type": "code",
   "execution_count": null,
   "metadata": {
    "collapsed": false
   },
   "outputs": [],
   "source": [
    "slct = buff.loc[idx[:, bid], :]  # selected Office\n",
    "slct"
   ]
  },
  {
   "cell_type": "code",
   "execution_count": null,
   "metadata": {
    "collapsed": true
   },
   "outputs": [],
   "source": [
    "buff = buff[buff.index.get_level_values(1) != bid]"
   ]
  },
  {
   "cell_type": "code",
   "execution_count": null,
   "metadata": {
    "collapsed": false
   },
   "outputs": [],
   "source": [
    "buff"
   ]
  },
  {
   "cell_type": "code",
   "execution_count": null,
   "metadata": {
    "collapsed": false
   },
   "outputs": [],
   "source": [
    "buff.empty"
   ]
  },
  {
   "cell_type": "code",
   "execution_count": null,
   "metadata": {
    "collapsed": false
   },
   "outputs": [],
   "source": [
    "getReg_overlayed(buff, reg, settings)"
   ]
  },
  {
   "cell_type": "markdown",
   "metadata": {
    "collapsed": true
   },
   "source": [
    "## Iterate"
   ]
  },
  {
   "cell_type": "code",
   "execution_count": 9,
   "metadata": {
    "collapsed": false
   },
   "outputs": [
    {
     "name": "stderr",
     "output_type": "stream",
     "text": [
      "2017-01-01 16:14:22,214 - root - INFO - Priority 1: bank office 1, score: 2608.5\n",
      "2017-01-01 16:14:22,214 - root - INFO - Priority 1: bank office 1, score: 2608.5\n"
     ]
    }
   ],
   "source": [
    "\n",
    "bid, score, r_score, foot_pois, stepless_pois, stepless_regs = iteration(1, buff, poi, reg, settings)"
   ]
  },
  {
   "cell_type": "code",
   "execution_count": 10,
   "metadata": {
    "collapsed": false
   },
   "outputs": [
    {
     "data": {
      "text/plain": [
       "'3|5'"
      ]
     },
     "execution_count": 10,
     "metadata": {},
     "output_type": "execute_result"
    }
   ],
   "source": [
    "'|'.join([str(x) for x in foot_pois])"
   ]
  },
  {
   "cell_type": "code",
   "execution_count": 8,
   "metadata": {
    "collapsed": false
   },
   "outputs": [
    {
     "data": {
      "text/plain": [
       "(2, 3494.0)"
      ]
     },
     "execution_count": 8,
     "metadata": {},
     "output_type": "execute_result"
    }
   ],
   "source": [
    "bid, score"
   ]
  },
  {
   "cell_type": "code",
   "execution_count": 9,
   "metadata": {
    "collapsed": false
   },
   "outputs": [
    {
     "data": {
      "text/plain": [
       "1974"
      ]
     },
     "execution_count": 9,
     "metadata": {},
     "output_type": "execute_result"
    }
   ],
   "source": [
    "r_score"
   ]
  },
  {
   "cell_type": "code",
   "execution_count": 10,
   "metadata": {
    "collapsed": false
   },
   "outputs": [
    {
     "data": {
      "text/plain": [
       "1520.0"
      ]
     },
     "execution_count": 10,
     "metadata": {},
     "output_type": "execute_result"
    }
   ],
   "source": [
    "score - r_score"
   ]
  },
  {
   "cell_type": "code",
   "execution_count": null,
   "metadata": {
    "collapsed": false
   },
   "outputs": [],
   "source": [
    "buff, poi, reg = update_data(buff, poi, reg, bid, stepless_pois, stepless_regs)"
   ]
  },
  {
   "cell_type": "code",
   "execution_count": null,
   "metadata": {
    "collapsed": false
   },
   "outputs": [],
   "source": [
    "poi.shape"
   ]
  },
  {
   "cell_type": "code",
   "execution_count": null,
   "metadata": {
    "collapsed": false
   },
   "outputs": [],
   "source": [
    "reg.shape"
   ]
  },
  {
   "cell_type": "code",
   "execution_count": null,
   "metadata": {
    "collapsed": false
   },
   "outputs": [],
   "source": [
    "bid, score, r_score, foot_pois, stepless_pois, stepless_regs = iteration(1, buff, poi, reg, settings)"
   ]
  },
  {
   "cell_type": "code",
   "execution_count": null,
   "metadata": {
    "collapsed": false
   },
   "outputs": [],
   "source": [
    "z = pd.DataFrame(pd.Series({1:0, 2:0, 3:0}))\n",
    "z"
   ]
  },
  {
   "cell_type": "code",
   "execution_count": null,
   "metadata": {
    "collapsed": false
   },
   "outputs": [],
   "source": [
    "y = pd.Series({1:12, 3:12})\n",
    "y"
   ]
  },
  {
   "cell_type": "code",
   "execution_count": null,
   "metadata": {
    "collapsed": true
   },
   "outputs": [],
   "source": [
    "z[0] = y"
   ]
  },
  {
   "cell_type": "code",
   "execution_count": null,
   "metadata": {
    "collapsed": false
   },
   "outputs": [],
   "source": [
    "z"
   ]
  },
  {
   "cell_type": "code",
   "execution_count": null,
   "metadata": {
    "collapsed": true
   },
   "outputs": [],
   "source": [
    "b = gp.read_file('../data/real/raw/banks.geojson')"
   ]
  },
  {
   "cell_type": "code",
   "execution_count": null,
   "metadata": {
    "collapsed": false
   },
   "outputs": [],
   "source": [
    "b['type'].value_counts()"
   ]
  },
  {
   "cell_type": "code",
   "execution_count": null,
   "metadata": {
    "collapsed": false
   },
   "outputs": [],
   "source": [
    "bankomat_oids = b[b['type']==u'Банкомат']"
   ]
  },
  {
   "cell_type": "code",
   "execution_count": null,
   "metadata": {
    "collapsed": false
   },
   "outputs": [],
   "source": [
    "bankomat_oids"
   ]
  },
  {
   "cell_type": "code",
   "execution_count": null,
   "metadata": {
    "collapsed": true
   },
   "outputs": [],
   "source": []
  }
 ],
 "metadata": {
  "kernelspec": {
   "display_name": "Python 2",
   "language": "python",
   "name": "python2"
  },
  "language_info": {
   "codemirror_mode": {
    "name": "ipython",
    "version": 2
   },
   "file_extension": ".py",
   "mimetype": "text/x-python",
   "name": "python",
   "nbconvert_exporter": "python",
   "pygments_lexer": "ipython2",
   "version": "2.7.12"
  }
 },
 "nbformat": 4,
 "nbformat_minor": 0
}
