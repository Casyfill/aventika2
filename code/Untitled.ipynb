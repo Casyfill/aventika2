{
 "cells": [
  {
   "cell_type": "code",
   "execution_count": 12,
   "metadata": {
    "collapsed": true
   },
   "outputs": [],
   "source": [
    "import os, glob, time, operator\n",
    "import json\n",
    "import pandas as pd\n",
    "import codecs\n",
    "import geopandas as gp\n",
    "from geopandas.tools import sjoin\n",
    "from datetime  import datetime\n",
    "from pandas.util.testing import isiterable\n",
    "import random\n",
    "\n",
    "from zip_results2 import get_pois"
   ]
  },
  {
   "cell_type": "code",
   "execution_count": 13,
   "metadata": {
    "collapsed": true
   },
   "outputs": [],
   "source": [
    "pois = get_pois()"
   ]
  },
  {
   "cell_type": "code",
   "execution_count": 3,
   "metadata": {
    "collapsed": false
   },
   "outputs": [],
   "source": [
    "df = gp.read_file('../data/zipped_banks_005f.geojson')"
   ]
  },
  {
   "cell_type": "code",
   "execution_count": 5,
   "metadata": {
    "collapsed": false
   },
   "outputs": [
    {
     "data": {
      "text/html": [
       "<div>\n",
       "<table border=\"1\" class=\"dataframe\">\n",
       "  <thead>\n",
       "    <tr style=\"text-align: right;\">\n",
       "      <th></th>\n",
       "      <th>address</th>\n",
       "      <th>bankomat_adapt</th>\n",
       "      <th>brail</th>\n",
       "      <th>dist_button</th>\n",
       "      <th>geometry</th>\n",
       "      <th>idxColor</th>\n",
       "      <th>info</th>\n",
       "      <th>name</th>\n",
       "      <th>office_id</th>\n",
       "      <th>pandus</th>\n",
       "      <th>...</th>\n",
       "      <th>reg_score</th>\n",
       "      <th>score</th>\n",
       "      <th>shop_intersect</th>\n",
       "      <th>sound</th>\n",
       "      <th>type</th>\n",
       "      <th>us_disabled</th>\n",
       "      <th>us_visual</th>\n",
       "      <th>vis_rasmetka</th>\n",
       "      <th>visual</th>\n",
       "      <th>vsp</th>\n",
       "    </tr>\n",
       "  </thead>\n",
       "  <tbody>\n",
       "    <tr>\n",
       "      <th>0</th>\n",
       "      <td>г. Зеленоград, 315</td>\n",
       "      <td>0</td>\n",
       "      <td>0</td>\n",
       "      <td>0.0</td>\n",
       "      <td>POINT (37.21603 55.99976)</td>\n",
       "      <td>low</td>\n",
       "      <td>0</td>\n",
       "      <td>ВСП 7954/1110</td>\n",
       "      <td>2378</td>\n",
       "      <td>0.0</td>\n",
       "      <td>...</td>\n",
       "      <td>100.55</td>\n",
       "      <td>15.23</td>\n",
       "      <td>0</td>\n",
       "      <td>0</td>\n",
       "      <td>Отделение</td>\n",
       "      <td>0</td>\n",
       "      <td>0</td>\n",
       "      <td>1</td>\n",
       "      <td>0</td>\n",
       "      <td>ВСП 7954/1110</td>\n",
       "    </tr>\n",
       "    <tr>\n",
       "      <th>1</th>\n",
       "      <td>г. Зеленоград, 1561Б</td>\n",
       "      <td>0</td>\n",
       "      <td>0</td>\n",
       "      <td>0.0</td>\n",
       "      <td>POINT (37.15092 55.97786)</td>\n",
       "      <td>low</td>\n",
       "      <td>0</td>\n",
       "      <td>ВСП 7954/1559</td>\n",
       "      <td>2387</td>\n",
       "      <td>0.0</td>\n",
       "      <td>...</td>\n",
       "      <td>64.35</td>\n",
       "      <td>10.98</td>\n",
       "      <td>0</td>\n",
       "      <td>0</td>\n",
       "      <td>Отделение</td>\n",
       "      <td>0</td>\n",
       "      <td>0</td>\n",
       "      <td>1</td>\n",
       "      <td>0</td>\n",
       "      <td>ВСП 7954/1559</td>\n",
       "    </tr>\n",
       "    <tr>\n",
       "      <th>2</th>\n",
       "      <td>г.Москва, ул.Смольная, д.7</td>\n",
       "      <td>0</td>\n",
       "      <td>0</td>\n",
       "      <td>0.0</td>\n",
       "      <td>POINT (37.49934 55.84571)</td>\n",
       "      <td>below-average</td>\n",
       "      <td>0</td>\n",
       "      <td>Доп.офис №9038/01150</td>\n",
       "      <td>230</td>\n",
       "      <td>0.0</td>\n",
       "      <td>...</td>\n",
       "      <td>181.25</td>\n",
       "      <td>26.40</td>\n",
       "      <td>0</td>\n",
       "      <td>0</td>\n",
       "      <td>Отделение</td>\n",
       "      <td>0</td>\n",
       "      <td>0</td>\n",
       "      <td>1</td>\n",
       "      <td>0</td>\n",
       "      <td>Доп.офис №9038/01150</td>\n",
       "    </tr>\n",
       "  </tbody>\n",
       "</table>\n",
       "<p>3 rows × 22 columns</p>\n",
       "</div>"
      ],
      "text/plain": [
       "                      address  bankomat_adapt  brail  dist_button  \\\n",
       "0          г. Зеленоград, 315               0      0          0.0   \n",
       "1        г. Зеленоград, 1561Б               0      0          0.0   \n",
       "2  г.Москва, ул.Смольная, д.7               0      0          0.0   \n",
       "\n",
       "                    geometry       idxColor  info                  name  \\\n",
       "0  POINT (37.21603 55.99976)            low     0         ВСП 7954/1110   \n",
       "1  POINT (37.15092 55.97786)            low     0         ВСП 7954/1559   \n",
       "2  POINT (37.49934 55.84571)  below-average     0  Доп.офис №9038/01150   \n",
       "\n",
       "   office_id  pandus          ...           reg_score  score  shop_intersect  \\\n",
       "0       2378     0.0          ...              100.55  15.23               0   \n",
       "1       2387     0.0          ...               64.35  10.98               0   \n",
       "2        230     0.0          ...              181.25  26.40               0   \n",
       "\n",
       "   sound       type  us_disabled us_visual  vis_rasmetka  visual  \\\n",
       "0      0  Отделение            0         0             1       0   \n",
       "1      0  Отделение            0         0             1       0   \n",
       "2      0  Отделение            0         0             1       0   \n",
       "\n",
       "                    vsp  \n",
       "0         ВСП 7954/1110  \n",
       "1         ВСП 7954/1559  \n",
       "2  Доп.офис №9038/01150  \n",
       "\n",
       "[3 rows x 22 columns]"
      ]
     },
     "execution_count": 5,
     "metadata": {},
     "output_type": "execute_result"
    }
   ],
   "source": [
    "df.head(3)"
   ]
  },
  {
   "cell_type": "code",
   "execution_count": 11,
   "metadata": {
    "collapsed": false
   },
   "outputs": [
    {
     "data": {
      "text/html": [
       "<div>\n",
       "<table border=\"1\" class=\"dataframe\">\n",
       "  <thead>\n",
       "    <tr style=\"text-align: right;\">\n",
       "      <th></th>\n",
       "      <th>address</th>\n",
       "      <th>bankomat_adapt</th>\n",
       "      <th>brail</th>\n",
       "      <th>dist_button</th>\n",
       "      <th>geometry</th>\n",
       "      <th>idxColor</th>\n",
       "      <th>info</th>\n",
       "      <th>name</th>\n",
       "      <th>office_id</th>\n",
       "      <th>pandus</th>\n",
       "      <th>...</th>\n",
       "      <th>reg_score</th>\n",
       "      <th>score</th>\n",
       "      <th>shop_intersect</th>\n",
       "      <th>sound</th>\n",
       "      <th>type</th>\n",
       "      <th>us_disabled</th>\n",
       "      <th>us_visual</th>\n",
       "      <th>vis_rasmetka</th>\n",
       "      <th>visual</th>\n",
       "      <th>vsp</th>\n",
       "    </tr>\n",
       "  </thead>\n",
       "  <tbody>\n",
       "    <tr>\n",
       "      <th>2001</th>\n",
       "      <td>г. Москва,Проспект Свободный 33</td>\n",
       "      <td>0</td>\n",
       "      <td>0</td>\n",
       "      <td>NaN</td>\n",
       "      <td>POINT (37.819425 55.752636)</td>\n",
       "      <td>high</td>\n",
       "      <td>0</td>\n",
       "      <td>Банкомат 650128</td>\n",
       "      <td>2060</td>\n",
       "      <td>NaN</td>\n",
       "      <td>...</td>\n",
       "      <td>316.10</td>\n",
       "      <td>100.00</td>\n",
       "      <td>1</td>\n",
       "      <td>0</td>\n",
       "      <td>Банкомат</td>\n",
       "      <td>0</td>\n",
       "      <td>0</td>\n",
       "      <td>1</td>\n",
       "      <td>0</td>\n",
       "      <td>Банкомат 650128</td>\n",
       "    </tr>\n",
       "    <tr>\n",
       "      <th>2201</th>\n",
       "      <td>г. Москва,Улица Паромная 7 1</td>\n",
       "      <td>0</td>\n",
       "      <td>0</td>\n",
       "      <td>NaN</td>\n",
       "      <td>POINT (37.761851 55.638089)</td>\n",
       "      <td>high</td>\n",
       "      <td>0</td>\n",
       "      <td>Банкомат 776238</td>\n",
       "      <td>2267</td>\n",
       "      <td>NaN</td>\n",
       "      <td>...</td>\n",
       "      <td>135.10</td>\n",
       "      <td>96.35</td>\n",
       "      <td>0</td>\n",
       "      <td>0</td>\n",
       "      <td>Банкомат</td>\n",
       "      <td>0</td>\n",
       "      <td>0</td>\n",
       "      <td>1</td>\n",
       "      <td>0</td>\n",
       "      <td>Банкомат 776238</td>\n",
       "    </tr>\n",
       "    <tr>\n",
       "      <th>2026</th>\n",
       "      <td>г. Москва,Улица Фестивальная 13корпус 1</td>\n",
       "      <td>0</td>\n",
       "      <td>0</td>\n",
       "      <td>NaN</td>\n",
       "      <td>POINT (37.477381 55.85578)</td>\n",
       "      <td>high</td>\n",
       "      <td>0</td>\n",
       "      <td>Банкомат 582794</td>\n",
       "      <td>2086</td>\n",
       "      <td>NaN</td>\n",
       "      <td>...</td>\n",
       "      <td>110.65</td>\n",
       "      <td>93.57</td>\n",
       "      <td>1</td>\n",
       "      <td>0</td>\n",
       "      <td>Банкомат</td>\n",
       "      <td>0</td>\n",
       "      <td>0</td>\n",
       "      <td>1</td>\n",
       "      <td>0</td>\n",
       "      <td>Банкомат 582794</td>\n",
       "    </tr>\n",
       "    <tr>\n",
       "      <th>802</th>\n",
       "      <td>г. Москва, ул.Паромная, д. 11/31</td>\n",
       "      <td>0</td>\n",
       "      <td>0</td>\n",
       "      <td>0.0</td>\n",
       "      <td>POINT (37.763892 55.635582)</td>\n",
       "      <td>high</td>\n",
       "      <td>0</td>\n",
       "      <td>Доп.офис №9038/01859</td>\n",
       "      <td>848</td>\n",
       "      <td>0.0</td>\n",
       "      <td>...</td>\n",
       "      <td>573.45</td>\n",
       "      <td>90.73</td>\n",
       "      <td>0</td>\n",
       "      <td>0</td>\n",
       "      <td>Отделение</td>\n",
       "      <td>0</td>\n",
       "      <td>0</td>\n",
       "      <td>1</td>\n",
       "      <td>0</td>\n",
       "      <td>Доп.офис №9038/01859</td>\n",
       "    </tr>\n",
       "    <tr>\n",
       "      <th>767</th>\n",
       "      <td>г.Москва, Свободный проспект, 33</td>\n",
       "      <td>0</td>\n",
       "      <td>0</td>\n",
       "      <td>1.0</td>\n",
       "      <td>POINT (37.819256 55.753083)</td>\n",
       "      <td>high</td>\n",
       "      <td>0</td>\n",
       "      <td>Доп.офис №9038/01158</td>\n",
       "      <td>809</td>\n",
       "      <td>1.0</td>\n",
       "      <td>...</td>\n",
       "      <td>302.35</td>\n",
       "      <td>86.03</td>\n",
       "      <td>1</td>\n",
       "      <td>0</td>\n",
       "      <td>Отделение</td>\n",
       "      <td>0</td>\n",
       "      <td>0</td>\n",
       "      <td>1</td>\n",
       "      <td>0</td>\n",
       "      <td>Доп.офис №9038/01158</td>\n",
       "    </tr>\n",
       "  </tbody>\n",
       "</table>\n",
       "<p>5 rows × 22 columns</p>\n",
       "</div>"
      ],
      "text/plain": [
       "                                      address  bankomat_adapt  brail  \\\n",
       "2001          г. Москва,Проспект Свободный 33               0      0   \n",
       "2201             г. Москва,Улица Паромная 7 1               0      0   \n",
       "2026  г. Москва,Улица Фестивальная 13корпус 1               0      0   \n",
       "802          г. Москва, ул.Паромная, д. 11/31               0      0   \n",
       "767          г.Москва, Свободный проспект, 33               0      0   \n",
       "\n",
       "      dist_button                     geometry idxColor  info  \\\n",
       "2001          NaN  POINT (37.819425 55.752636)     high     0   \n",
       "2201          NaN  POINT (37.761851 55.638089)     high     0   \n",
       "2026          NaN   POINT (37.477381 55.85578)     high     0   \n",
       "802           0.0  POINT (37.763892 55.635582)     high     0   \n",
       "767           1.0  POINT (37.819256 55.753083)     high     0   \n",
       "\n",
       "                      name  office_id  pandus          ...           \\\n",
       "2001       Банкомат 650128       2060     NaN          ...            \n",
       "2201       Банкомат 776238       2267     NaN          ...            \n",
       "2026       Банкомат 582794       2086     NaN          ...            \n",
       "802   Доп.офис №9038/01859        848     0.0          ...            \n",
       "767   Доп.офис №9038/01158        809     1.0          ...            \n",
       "\n",
       "      reg_score   score  shop_intersect  sound       type  us_disabled  \\\n",
       "2001     316.10  100.00               1      0   Банкомат            0   \n",
       "2201     135.10   96.35               0      0   Банкомат            0   \n",
       "2026     110.65   93.57               1      0   Банкомат            0   \n",
       "802      573.45   90.73               0      0  Отделение            0   \n",
       "767      302.35   86.03               1      0  Отделение            0   \n",
       "\n",
       "     us_visual  vis_rasmetka  visual                   vsp  \n",
       "2001         0             1       0       Банкомат 650128  \n",
       "2201         0             1       0       Банкомат 776238  \n",
       "2026         0             1       0       Банкомат 582794  \n",
       "802          0             1       0  Доп.офис №9038/01859  \n",
       "767          0             1       0  Доп.офис №9038/01158  \n",
       "\n",
       "[5 rows x 22 columns]"
      ]
     },
     "execution_count": 11,
     "metadata": {},
     "output_type": "execute_result"
    }
   ],
   "source": [
    "df.sort_values('score', ascending=False).head(5)"
   ]
  },
  {
   "cell_type": "code",
   "execution_count": 28,
   "metadata": {
    "collapsed": false
   },
   "outputs": [
    {
     "data": {
      "text/html": [
       "<div>\n",
       "<table border=\"1\" class=\"dataframe\">\n",
       "  <thead>\n",
       "    <tr style=\"text-align: right;\">\n",
       "      <th></th>\n",
       "      <th>name</th>\n",
       "      <th>raw_score</th>\n",
       "      <th>reg_score</th>\n",
       "      <th>score</th>\n",
       "    </tr>\n",
       "  </thead>\n",
       "  <tbody>\n",
       "    <tr>\n",
       "      <th>2001</th>\n",
       "      <td>Банкомат 650128</td>\n",
       "      <td>3319.10</td>\n",
       "      <td>316.10</td>\n",
       "      <td>100.00</td>\n",
       "    </tr>\n",
       "    <tr>\n",
       "      <th>2201</th>\n",
       "      <td>Банкомат 776238</td>\n",
       "      <td>3198.10</td>\n",
       "      <td>135.10</td>\n",
       "      <td>96.35</td>\n",
       "    </tr>\n",
       "    <tr>\n",
       "      <th>2026</th>\n",
       "      <td>Банкомат 582794</td>\n",
       "      <td>3105.65</td>\n",
       "      <td>110.65</td>\n",
       "      <td>93.57</td>\n",
       "    </tr>\n",
       "    <tr>\n",
       "      <th>802</th>\n",
       "      <td>Доп.офис №9038/01859</td>\n",
       "      <td>3011.45</td>\n",
       "      <td>573.45</td>\n",
       "      <td>90.73</td>\n",
       "    </tr>\n",
       "    <tr>\n",
       "      <th>767</th>\n",
       "      <td>Доп.офис №9038/01158</td>\n",
       "      <td>2855.35</td>\n",
       "      <td>302.35</td>\n",
       "      <td>86.03</td>\n",
       "    </tr>\n",
       "  </tbody>\n",
       "</table>\n",
       "</div>"
      ],
      "text/plain": [
       "                      name  raw_score  reg_score   score\n",
       "2001       Банкомат 650128    3319.10     316.10  100.00\n",
       "2201       Банкомат 776238    3198.10     135.10   96.35\n",
       "2026       Банкомат 582794    3105.65     110.65   93.57\n",
       "802   Доп.офис №9038/01859    3011.45     573.45   90.73\n",
       "767   Доп.офис №9038/01158    2855.35     302.35   86.03"
      ]
     },
     "execution_count": 28,
     "metadata": {},
     "output_type": "execute_result"
    }
   ],
   "source": [
    "df.sort_values('score', ascending=False).loc[:, ['name','raw_score', 'reg_score', 'score']].head(5)"
   ]
  },
  {
   "cell_type": "code",
   "execution_count": 7,
   "metadata": {
    "collapsed": false
   },
   "outputs": [
    {
     "data": {
      "text/html": [
       "<div>\n",
       "<table border=\"1\" class=\"dataframe\">\n",
       "  <thead>\n",
       "    <tr style=\"text-align: right;\">\n",
       "      <th></th>\n",
       "      <th>idxColor</th>\n",
       "      <th>label</th>\n",
       "    </tr>\n",
       "    <tr>\n",
       "      <th>office_id</th>\n",
       "      <th></th>\n",
       "      <th></th>\n",
       "    </tr>\n",
       "  </thead>\n",
       "  <tbody>\n",
       "    <tr>\n",
       "      <th>989</th>\n",
       "      <td>NaN</td>\n",
       "      <td>low</td>\n",
       "    </tr>\n",
       "    <tr>\n",
       "      <th>896</th>\n",
       "      <td>NaN</td>\n",
       "      <td>low</td>\n",
       "    </tr>\n",
       "    <tr>\n",
       "      <th>897</th>\n",
       "      <td>NaN</td>\n",
       "      <td>low</td>\n",
       "    </tr>\n",
       "    <tr>\n",
       "      <th>898</th>\n",
       "      <td>NaN</td>\n",
       "      <td>low</td>\n",
       "    </tr>\n",
       "    <tr>\n",
       "      <th>899</th>\n",
       "      <td>NaN</td>\n",
       "      <td>low</td>\n",
       "    </tr>\n",
       "    <tr>\n",
       "      <th>1436</th>\n",
       "      <td>NaN</td>\n",
       "      <td>low</td>\n",
       "    </tr>\n",
       "  </tbody>\n",
       "</table>\n",
       "</div>"
      ],
      "text/plain": [
       "           idxColor label\n",
       "office_id                \n",
       "989             NaN   low\n",
       "896             NaN   low\n",
       "897             NaN   low\n",
       "898             NaN   low\n",
       "899             NaN   low\n",
       "1436            NaN   low"
      ]
     },
     "execution_count": 7,
     "metadata": {},
     "output_type": "execute_result"
    }
   ],
   "source": [
    "d = result\n",
    "d.loc[d['score']==0, ['idxColor','label']]"
   ]
  },
  {
   "cell_type": "code",
   "execution_count": 15,
   "metadata": {
    "collapsed": false
   },
   "outputs": [],
   "source": [
    "pois1 = [508,837,943,31,4693,4717,4501,4904,4869,4900,4830,4695,4761,4716,4875,4738,4776,4956,4954,4502,4903,4743,4694,5254,4874,4902,4873,4901,4876,4737,4955,4692,6364,6372,7050,8673,8672,8667,8767,9080,9552,10352,10363,10643,508,837,943,4693,4717,4501,4904,4869,4900,4830,4875,4738,4776,4956,4954,4502,4903,4743,4694,5254,4874,8673,8672,8667,10363,10643]"
   ]
  },
  {
   "cell_type": "code",
   "execution_count": 18,
   "metadata": {
    "collapsed": false
   },
   "outputs": [
    {
     "data": {
      "text/plain": [
       "70"
      ]
     },
     "execution_count": 18,
     "metadata": {},
     "output_type": "execute_result"
    }
   ],
   "source": [
    "len(pois1)"
   ]
  },
  {
   "cell_type": "code",
   "execution_count": 19,
   "metadata": {
    "collapsed": false
   },
   "outputs": [
    {
     "data": {
      "text/plain": [
       "44"
      ]
     },
     "execution_count": 19,
     "metadata": {},
     "output_type": "execute_result"
    }
   ],
   "source": [
    "p = len(set(pois1))"
   ]
  },
  {
   "cell_type": "code",
   "execution_count": 27,
   "metadata": {
    "collapsed": false
   },
   "outputs": [
    {
     "data": {
      "text/plain": [
       "1910.0"
      ]
     },
     "execution_count": 27,
     "metadata": {},
     "output_type": "execute_result"
    }
   ],
   "source": [
    "pois.loc[set(pois1),'score'].astype(float).sum()"
   ]
  },
  {
   "cell_type": "code",
   "execution_count": null,
   "metadata": {
    "collapsed": true
   },
   "outputs": [],
   "source": []
  }
 ],
 "metadata": {
  "kernelspec": {
   "display_name": "Python 2",
   "language": "python",
   "name": "python2"
  },
  "language_info": {
   "codemirror_mode": {
    "name": "ipython",
    "version": 2
   },
   "file_extension": ".py",
   "mimetype": "text/x-python",
   "name": "python",
   "nbconvert_exporter": "python",
   "pygments_lexer": "ipython2",
   "version": "2.7.12"
  }
 },
 "nbformat": 4,
 "nbformat_minor": 0
}
